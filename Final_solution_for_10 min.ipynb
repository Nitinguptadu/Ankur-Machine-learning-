{
 "cells": [
  {
   "cell_type": "code",
   "execution_count": 1,
   "metadata": {},
   "outputs": [
    {
     "name": "stderr",
     "output_type": "stream",
     "text": [
      "C:\\Users\\lenovo\\Anaconda3\\lib\\site-packages\\statsmodels\\tools\\_testing.py:19: FutureWarning: pandas.util.testing is deprecated. Use the functions in the public API at pandas.testing instead.\n",
      "  import pandas.util.testing as tm\n"
     ]
    }
   ],
   "source": [
    "# Loading all the required libraries\n",
    "# Numpy and Pandas for data manipulation\n",
    "import pandas as pd\n",
    "import numpy as np\n",
    "# Seaborn and Matplotlib for data visulaization\n",
    "import seaborn as sns\n",
    "import matplotlib.pyplot as plt\n",
    "\n",
    "# Views all rows and columns\n",
    "pd.set_option('display.max_columns', None)"
   ]
  },
  {
   "cell_type": "markdown",
   "metadata": {},
   "source": [
    "# Importing CSV"
   ]
  },
  {
   "cell_type": "code",
   "execution_count": 2,
   "metadata": {},
   "outputs": [],
   "source": [
    "df = pd.read_excel(\"all_stream_info_10min.xlsx\")"
   ]
  },
  {
   "cell_type": "code",
   "execution_count": 3,
   "metadata": {},
   "outputs": [
    {
     "data": {
      "text/html": [
       "<div>\n",
       "<style scoped>\n",
       "    .dataframe tbody tr th:only-of-type {\n",
       "        vertical-align: middle;\n",
       "    }\n",
       "\n",
       "    .dataframe tbody tr th {\n",
       "        vertical-align: top;\n",
       "    }\n",
       "\n",
       "    .dataframe thead th {\n",
       "        text-align: right;\n",
       "    }\n",
       "</style>\n",
       "<table border=\"1\" class=\"dataframe\">\n",
       "  <thead>\n",
       "    <tr style=\"text-align: right;\">\n",
       "      <th></th>\n",
       "      <th>liveStreamID</th>\n",
       "      <th>beginTime</th>\n",
       "      <th>endTime</th>\n",
       "      <th>duration</th>\n",
       "      <th>closeBy</th>\n",
       "      <th>maxLiveViewerCount</th>\n",
       "      <th>maxLiveViewerTime</th>\n",
       "      <th>privateLiveStream</th>\n",
       "      <th>receivedLikeCount</th>\n",
       "      <th>streamerType</th>\n",
       "      <th>isShow</th>\n",
       "      <th>cultureGroup</th>\n",
       "      <th>userID</th>\n",
       "      <th>registerTime</th>\n",
       "      <th>registerCountry</th>\n",
       "      <th>isContracted</th>\n",
       "      <th>uniqueViewerCount</th>\n",
       "      <th>ios</th>\n",
       "      <th>android</th>\n",
       "      <th>durationGTE5sec</th>\n",
       "      <th>durationGTE2min</th>\n",
       "      <th>durationGTE10min</th>\n",
       "      <th>totalViewerDuration</th>\n",
       "      <th>avgViewerDuration</th>\n",
       "      <th>avgStreamJoinDuration</th>\n",
       "      <th>count</th>\n",
       "      <th>followIncreaseEstimated</th>\n",
       "      <th>receivePointEstimated</th>\n",
       "      <th>Target</th>\n",
       "    </tr>\n",
       "  </thead>\n",
       "  <tbody>\n",
       "    <tr>\n",
       "      <th>0</th>\n",
       "      <td>109414598</td>\n",
       "      <td>2020-06-20 18:47:14 UTC</td>\n",
       "      <td>2020-06-21 07:06:36 UTC</td>\n",
       "      <td>44362</td>\n",
       "      <td>normalEnd</td>\n",
       "      <td>117</td>\n",
       "      <td>2020-06-20 21:48:29.745 UTC</td>\n",
       "      <td>0</td>\n",
       "      <td>3447</td>\n",
       "      <td>0</td>\n",
       "      <td>False</td>\n",
       "      <td>NaN</td>\n",
       "      <td>6cd90016-b679-4a7b-8cc6-2c43d4590cca</td>\n",
       "      <td>2015-07-27 07:19:53 UTC</td>\n",
       "      <td>United States</td>\n",
       "      <td>NaN</td>\n",
       "      <td>1893</td>\n",
       "      <td>845</td>\n",
       "      <td>730</td>\n",
       "      <td>1503</td>\n",
       "      <td>493</td>\n",
       "      <td>302</td>\n",
       "      <td>919042.0</td>\n",
       "      <td>588.38</td>\n",
       "      <td>202.48</td>\n",
       "      <td>4571</td>\n",
       "      <td>-3</td>\n",
       "      <td>71937</td>\n",
       "      <td>1</td>\n",
       "    </tr>\n",
       "    <tr>\n",
       "      <th>1</th>\n",
       "      <td>109389398</td>\n",
       "      <td>2020-06-19 09:03:21 UTC</td>\n",
       "      <td>2020-06-19 14:10:28 UTC</td>\n",
       "      <td>18427</td>\n",
       "      <td>normalEnd</td>\n",
       "      <td>355</td>\n",
       "      <td>2020-06-19 10:25:37.51 UTC</td>\n",
       "      <td>0</td>\n",
       "      <td>22479</td>\n",
       "      <td>0</td>\n",
       "      <td>False</td>\n",
       "      <td>NaN</td>\n",
       "      <td>8258d28e-47b9-4ce8-a765-29175b663a1d</td>\n",
       "      <td>2020-03-24 05:23:22 UTC</td>\n",
       "      <td>United States</td>\n",
       "      <td>NaN</td>\n",
       "      <td>2385</td>\n",
       "      <td>1639</td>\n",
       "      <td>570</td>\n",
       "      <td>2142</td>\n",
       "      <td>477</td>\n",
       "      <td>251</td>\n",
       "      <td>939946.0</td>\n",
       "      <td>426.86</td>\n",
       "      <td>133.97</td>\n",
       "      <td>5342</td>\n",
       "      <td>35</td>\n",
       "      <td>370581</td>\n",
       "      <td>1</td>\n",
       "    </tr>\n",
       "    <tr>\n",
       "      <th>2</th>\n",
       "      <td>109336156</td>\n",
       "      <td>2020-06-15 22:41:45 UTC</td>\n",
       "      <td>2020-06-16 04:22:56 UTC</td>\n",
       "      <td>20471</td>\n",
       "      <td>normalEnd</td>\n",
       "      <td>74</td>\n",
       "      <td>2020-06-15 23:13:27.554 UTC</td>\n",
       "      <td>0</td>\n",
       "      <td>773</td>\n",
       "      <td>0</td>\n",
       "      <td>False</td>\n",
       "      <td>NaN</td>\n",
       "      <td>32563571-1708-4c7e-ae9a-95ec13f56fc2</td>\n",
       "      <td>2020-03-24 05:23:22 UTC</td>\n",
       "      <td>United States</td>\n",
       "      <td>NaN</td>\n",
       "      <td>839</td>\n",
       "      <td>581</td>\n",
       "      <td>213</td>\n",
       "      <td>773</td>\n",
       "      <td>300</td>\n",
       "      <td>191</td>\n",
       "      <td>668404.0</td>\n",
       "      <td>846.08</td>\n",
       "      <td>285.40</td>\n",
       "      <td>2767</td>\n",
       "      <td>24</td>\n",
       "      <td>26551</td>\n",
       "      <td>1</td>\n",
       "    </tr>\n",
       "    <tr>\n",
       "      <th>3</th>\n",
       "      <td>109400631</td>\n",
       "      <td>2020-06-20 01:10:14 UTC</td>\n",
       "      <td>2020-06-20 05:11:00 UTC</td>\n",
       "      <td>14446</td>\n",
       "      <td>normalEnd</td>\n",
       "      <td>493</td>\n",
       "      <td>2020-06-20 02:27:30.522 UTC</td>\n",
       "      <td>0</td>\n",
       "      <td>28918</td>\n",
       "      <td>0</td>\n",
       "      <td>False</td>\n",
       "      <td>NaN</td>\n",
       "      <td>7311d32a-e572-4a59-855b-bdd711553bd5</td>\n",
       "      <td>2020-03-24 05:23:22 UTC</td>\n",
       "      <td>United States</td>\n",
       "      <td>NaN</td>\n",
       "      <td>1460</td>\n",
       "      <td>816</td>\n",
       "      <td>561</td>\n",
       "      <td>1333</td>\n",
       "      <td>363</td>\n",
       "      <td>178</td>\n",
       "      <td>674843.0</td>\n",
       "      <td>491.87</td>\n",
       "      <td>158.08</td>\n",
       "      <td>3301</td>\n",
       "      <td>16</td>\n",
       "      <td>29144</td>\n",
       "      <td>1</td>\n",
       "    </tr>\n",
       "    <tr>\n",
       "      <th>4</th>\n",
       "      <td>109368378</td>\n",
       "      <td>2020-06-17 21:04:08 UTC</td>\n",
       "      <td>2020-06-18 01:07:18 UTC</td>\n",
       "      <td>14590</td>\n",
       "      <td>normalEnd</td>\n",
       "      <td>70</td>\n",
       "      <td>2020-06-17 22:28:06.574 UTC</td>\n",
       "      <td>0</td>\n",
       "      <td>721</td>\n",
       "      <td>0</td>\n",
       "      <td>False</td>\n",
       "      <td>NaN</td>\n",
       "      <td>033eb47a-557a-4c2d-9ead-61eee57ae184</td>\n",
       "      <td>2020-03-24 05:23:22 UTC</td>\n",
       "      <td>United States</td>\n",
       "      <td>NaN</td>\n",
       "      <td>674</td>\n",
       "      <td>451</td>\n",
       "      <td>189</td>\n",
       "      <td>614</td>\n",
       "      <td>254</td>\n",
       "      <td>173</td>\n",
       "      <td>544953.0</td>\n",
       "      <td>856.84</td>\n",
       "      <td>290.33</td>\n",
       "      <td>1446</td>\n",
       "      <td>17</td>\n",
       "      <td>28961</td>\n",
       "      <td>1</td>\n",
       "    </tr>\n",
       "  </tbody>\n",
       "</table>\n",
       "</div>"
      ],
      "text/plain": [
       "   liveStreamID                beginTime                  endTime  duration  \\\n",
       "0     109414598  2020-06-20 18:47:14 UTC  2020-06-21 07:06:36 UTC     44362   \n",
       "1     109389398  2020-06-19 09:03:21 UTC  2020-06-19 14:10:28 UTC     18427   \n",
       "2     109336156  2020-06-15 22:41:45 UTC  2020-06-16 04:22:56 UTC     20471   \n",
       "3     109400631  2020-06-20 01:10:14 UTC  2020-06-20 05:11:00 UTC     14446   \n",
       "4     109368378  2020-06-17 21:04:08 UTC  2020-06-18 01:07:18 UTC     14590   \n",
       "\n",
       "     closeBy  maxLiveViewerCount            maxLiveViewerTime  \\\n",
       "0  normalEnd                 117  2020-06-20 21:48:29.745 UTC   \n",
       "1  normalEnd                 355   2020-06-19 10:25:37.51 UTC   \n",
       "2  normalEnd                  74  2020-06-15 23:13:27.554 UTC   \n",
       "3  normalEnd                 493  2020-06-20 02:27:30.522 UTC   \n",
       "4  normalEnd                  70  2020-06-17 22:28:06.574 UTC   \n",
       "\n",
       "   privateLiveStream  receivedLikeCount  streamerType  isShow  cultureGroup  \\\n",
       "0                  0               3447             0   False           NaN   \n",
       "1                  0              22479             0   False           NaN   \n",
       "2                  0                773             0   False           NaN   \n",
       "3                  0              28918             0   False           NaN   \n",
       "4                  0                721             0   False           NaN   \n",
       "\n",
       "                                 userID             registerTime  \\\n",
       "0  6cd90016-b679-4a7b-8cc6-2c43d4590cca  2015-07-27 07:19:53 UTC   \n",
       "1  8258d28e-47b9-4ce8-a765-29175b663a1d  2020-03-24 05:23:22 UTC   \n",
       "2  32563571-1708-4c7e-ae9a-95ec13f56fc2  2020-03-24 05:23:22 UTC   \n",
       "3  7311d32a-e572-4a59-855b-bdd711553bd5  2020-03-24 05:23:22 UTC   \n",
       "4  033eb47a-557a-4c2d-9ead-61eee57ae184  2020-03-24 05:23:22 UTC   \n",
       "\n",
       "  registerCountry  isContracted  uniqueViewerCount   ios  android  \\\n",
       "0   United States           NaN               1893   845      730   \n",
       "1   United States           NaN               2385  1639      570   \n",
       "2   United States           NaN                839   581      213   \n",
       "3   United States           NaN               1460   816      561   \n",
       "4   United States           NaN                674   451      189   \n",
       "\n",
       "   durationGTE5sec  durationGTE2min  durationGTE10min  totalViewerDuration  \\\n",
       "0             1503              493               302             919042.0   \n",
       "1             2142              477               251             939946.0   \n",
       "2              773              300               191             668404.0   \n",
       "3             1333              363               178             674843.0   \n",
       "4              614              254               173             544953.0   \n",
       "\n",
       "   avgViewerDuration  avgStreamJoinDuration  count  followIncreaseEstimated  \\\n",
       "0             588.38                 202.48   4571                       -3   \n",
       "1             426.86                 133.97   5342                       35   \n",
       "2             846.08                 285.40   2767                       24   \n",
       "3             491.87                 158.08   3301                       16   \n",
       "4             856.84                 290.33   1446                       17   \n",
       "\n",
       "   receivePointEstimated  Target  \n",
       "0                  71937       1  \n",
       "1                 370581       1  \n",
       "2                  26551       1  \n",
       "3                  29144       1  \n",
       "4                  28961       1  "
      ]
     },
     "execution_count": 3,
     "metadata": {},
     "output_type": "execute_result"
    }
   ],
   "source": [
    "# View top rows\n",
    "df.head()"
   ]
  },
  {
   "cell_type": "code",
   "execution_count": 4,
   "metadata": {},
   "outputs": [
    {
     "name": "stdout",
     "output_type": "stream",
     "text": [
      "There are 29 columns:\n",
      "liveStreamID ,beginTime ,endTime ,duration ,closeBy ,maxLiveViewerCount ,maxLiveViewerTime ,privateLiveStream ,receivedLikeCount ,streamerType ,isShow ,cultureGroup ,userID ,registerTime ,registerCountry ,isContracted ,uniqueViewerCount ,ios ,android ,durationGTE5sec ,durationGTE2min ,durationGTE10min ,totalViewerDuration ,avgViewerDuration ,avgStreamJoinDuration ,count ,followIncreaseEstimated ,receivePointEstimated ,Target ,"
     ]
    }
   ],
   "source": [
    "# Check columns name of the data\n",
    "print('There are', len(df.columns), 'columns:')\n",
    "for x in df.columns:\n",
    "    print(x+ ' ', end= ',')"
   ]
  },
  {
   "cell_type": "code",
   "execution_count": 5,
   "metadata": {},
   "outputs": [
    {
     "name": "stdout",
     "output_type": "stream",
     "text": [
      "Number of columns (features) in the given data is : 29\n",
      "Number of rows (entries) in the given data is : 3148\n"
     ]
    }
   ],
   "source": [
    "# Number of Rows and Columns in data\n",
    "print(\"Number of columns (features) in the given data is :\", df.shape[1])\n",
    "print(\"Number of rows (entries) in the given data is :\" , df.shape[0])"
   ]
  },
  {
   "cell_type": "markdown",
   "metadata": {},
   "source": [
    "# Geting insite of the data type, NAs and categorical values"
   ]
  },
  {
   "cell_type": "code",
   "execution_count": 6,
   "metadata": {},
   "outputs": [
    {
     "name": "stdout",
     "output_type": "stream",
     "text": [
      "<class 'pandas.core.frame.DataFrame'>\n",
      "RangeIndex: 3148 entries, 0 to 3147\n",
      "Data columns (total 29 columns):\n",
      " #   Column                   Non-Null Count  Dtype  \n",
      "---  ------                   --------------  -----  \n",
      " 0   liveStreamID             3148 non-null   int64  \n",
      " 1   beginTime                3148 non-null   object \n",
      " 2   endTime                  3148 non-null   object \n",
      " 3   duration                 3148 non-null   int64  \n",
      " 4   closeBy                  3051 non-null   object \n",
      " 5   maxLiveViewerCount       3148 non-null   int64  \n",
      " 6   maxLiveViewerTime        1838 non-null   object \n",
      " 7   privateLiveStream        3148 non-null   int64  \n",
      " 8   receivedLikeCount        3148 non-null   int64  \n",
      " 9   streamerType             3148 non-null   int64  \n",
      " 10  isShow                   3148 non-null   bool   \n",
      " 11  cultureGroup             0 non-null      float64\n",
      " 12  userID                   1000 non-null   object \n",
      " 13  registerTime             3148 non-null   object \n",
      " 14  registerCountry          3148 non-null   object \n",
      " 15  isContracted             0 non-null      float64\n",
      " 16  uniqueViewerCount        3148 non-null   int64  \n",
      " 17  ios                      3148 non-null   int64  \n",
      " 18  android                  3148 non-null   int64  \n",
      " 19  durationGTE5sec          3148 non-null   int64  \n",
      " 20  durationGTE2min          3148 non-null   int64  \n",
      " 21  durationGTE10min         3148 non-null   int64  \n",
      " 22  totalViewerDuration      1689 non-null   float64\n",
      " 23  avgViewerDuration        1689 non-null   float64\n",
      " 24  avgStreamJoinDuration    1689 non-null   float64\n",
      " 25  count                    3148 non-null   int64  \n",
      " 26  followIncreaseEstimated  3148 non-null   int64  \n",
      " 27  receivePointEstimated    3148 non-null   int64  \n",
      " 28  Target                   3148 non-null   int64  \n",
      "dtypes: bool(1), float64(5), int64(16), object(7)\n",
      "memory usage: 691.8+ KB\n"
     ]
    }
   ],
   "source": [
    "# check data type of all columns\n",
    "df.info()"
   ]
  },
  {
   "cell_type": "code",
   "execution_count": 7,
   "metadata": {},
   "outputs": [
    {
     "data": {
      "text/plain": [
       "cultureGroup               1.000000\n",
       "isContracted               1.000000\n",
       "userID                     0.682338\n",
       "avgStreamJoinDuration      0.463469\n",
       "avgViewerDuration          0.463469\n",
       "totalViewerDuration        0.463469\n",
       "maxLiveViewerTime          0.416137\n",
       "closeBy                    0.030813\n",
       "duration                   0.000000\n",
       "maxLiveViewerCount         0.000000\n",
       "endTime                    0.000000\n",
       "privateLiveStream          0.000000\n",
       "receivedLikeCount          0.000000\n",
       "beginTime                  0.000000\n",
       "streamerType               0.000000\n",
       "isShow                     0.000000\n",
       "Target                     0.000000\n",
       "registerCountry            0.000000\n",
       "registerTime               0.000000\n",
       "receivePointEstimated      0.000000\n",
       "uniqueViewerCount          0.000000\n",
       "ios                        0.000000\n",
       "android                    0.000000\n",
       "durationGTE5sec            0.000000\n",
       "durationGTE2min            0.000000\n",
       "durationGTE10min           0.000000\n",
       "count                      0.000000\n",
       "followIncreaseEstimated    0.000000\n",
       "liveStreamID               0.000000\n",
       "dtype: float64"
      ]
     },
     "execution_count": 7,
     "metadata": {},
     "output_type": "execute_result"
    }
   ],
   "source": [
    "# Check Missing values\n",
    "df_null=df.isnull().sum(axis=0).sort_values(ascending= False)/float(len(df))\n",
    "df_null"
   ]
  },
  {
   "cell_type": "code",
   "execution_count": 8,
   "metadata": {},
   "outputs": [
    {
     "data": {
      "text/plain": [
       "cultureGroup             1.000000\n",
       "isContracted             1.000000\n",
       "userID                   0.682338\n",
       "avgStreamJoinDuration    0.463469\n",
       "avgViewerDuration        0.463469\n",
       "totalViewerDuration      0.463469\n",
       "maxLiveViewerTime        0.416137\n",
       "dtype: float64"
      ]
     },
     "execution_count": 8,
     "metadata": {},
     "output_type": "execute_result"
    }
   ],
   "source": [
    "# Check whose missing values greater 40 %\n",
    "df_null[df_null>0.40]"
   ]
  },
  {
   "cell_type": "code",
   "execution_count": 9,
   "metadata": {},
   "outputs": [
    {
     "data": {
      "text/plain": [
       "United States    100.0\n",
       "Name: registerCountry, dtype: float64"
      ]
     },
     "execution_count": 9,
     "metadata": {},
     "output_type": "execute_result"
    }
   ],
   "source": [
    "# Check types of registered country and their percent\n",
    "df[\"registerCountry\"].value_counts()/len(df)*100"
   ]
  },
  {
   "cell_type": "code",
   "execution_count": 10,
   "metadata": {},
   "outputs": [
    {
     "data": {
      "text/plain": [
       "0    100.0\n",
       "Name: streamerType, dtype: float64"
      ]
     },
     "execution_count": 10,
     "metadata": {},
     "output_type": "execute_result"
    }
   ],
   "source": [
    "# Check types of Streamer Type and their percent\n",
    "df[\"streamerType\"].value_counts()/len(df)*100"
   ]
  },
  {
   "cell_type": "markdown",
   "metadata": {},
   "source": [
    "# Removing unwanted variables in the data"
   ]
  },
  {
   "cell_type": "raw",
   "metadata": {},
   "source": [
    "After looking Live Streaming Data, we can also remove some of the variables, reasons are described below:\n",
    "\n",
    "1. Live stream ID and Registered Country all are unique    \n",
    "2. Culture Group and Is Contracted all values are null\n",
    "3. BeginTime, endTime,maxLiveViewerTime, registerTime and User ID not required for the model"
   ]
  },
  {
   "cell_type": "code",
   "execution_count": 11,
   "metadata": {},
   "outputs": [],
   "source": [
    "vars_must_removed= [\"liveStreamID\",\"beginTime\",\"endTime\",\"maxLiveViewerTime\",\"registerCountry\",\"cultureGroup\",\"isContracted\",\n",
    "         \"registerTime\",\"userID\"]"
   ]
  },
  {
   "cell_type": "code",
   "execution_count": 12,
   "metadata": {},
   "outputs": [],
   "source": [
    "# drop the variables\n",
    "df.drop(vars_must_removed, axis=1, inplace= True)"
   ]
  },
  {
   "cell_type": "code",
   "execution_count": 13,
   "metadata": {},
   "outputs": [
    {
     "data": {
      "text/html": [
       "<div>\n",
       "<style scoped>\n",
       "    .dataframe tbody tr th:only-of-type {\n",
       "        vertical-align: middle;\n",
       "    }\n",
       "\n",
       "    .dataframe tbody tr th {\n",
       "        vertical-align: top;\n",
       "    }\n",
       "\n",
       "    .dataframe thead th {\n",
       "        text-align: right;\n",
       "    }\n",
       "</style>\n",
       "<table border=\"1\" class=\"dataframe\">\n",
       "  <thead>\n",
       "    <tr style=\"text-align: right;\">\n",
       "      <th></th>\n",
       "      <th>duration</th>\n",
       "      <th>closeBy</th>\n",
       "      <th>maxLiveViewerCount</th>\n",
       "      <th>privateLiveStream</th>\n",
       "      <th>receivedLikeCount</th>\n",
       "      <th>streamerType</th>\n",
       "      <th>isShow</th>\n",
       "      <th>uniqueViewerCount</th>\n",
       "      <th>ios</th>\n",
       "      <th>android</th>\n",
       "      <th>durationGTE5sec</th>\n",
       "      <th>durationGTE2min</th>\n",
       "      <th>durationGTE10min</th>\n",
       "      <th>totalViewerDuration</th>\n",
       "      <th>avgViewerDuration</th>\n",
       "      <th>avgStreamJoinDuration</th>\n",
       "      <th>count</th>\n",
       "      <th>followIncreaseEstimated</th>\n",
       "      <th>receivePointEstimated</th>\n",
       "      <th>Target</th>\n",
       "    </tr>\n",
       "  </thead>\n",
       "  <tbody>\n",
       "    <tr>\n",
       "      <th>0</th>\n",
       "      <td>44362</td>\n",
       "      <td>normalEnd</td>\n",
       "      <td>117</td>\n",
       "      <td>0</td>\n",
       "      <td>3447</td>\n",
       "      <td>0</td>\n",
       "      <td>False</td>\n",
       "      <td>1893</td>\n",
       "      <td>845</td>\n",
       "      <td>730</td>\n",
       "      <td>1503</td>\n",
       "      <td>493</td>\n",
       "      <td>302</td>\n",
       "      <td>919042.0</td>\n",
       "      <td>588.38</td>\n",
       "      <td>202.48</td>\n",
       "      <td>4571</td>\n",
       "      <td>-3</td>\n",
       "      <td>71937</td>\n",
       "      <td>1</td>\n",
       "    </tr>\n",
       "    <tr>\n",
       "      <th>1</th>\n",
       "      <td>18427</td>\n",
       "      <td>normalEnd</td>\n",
       "      <td>355</td>\n",
       "      <td>0</td>\n",
       "      <td>22479</td>\n",
       "      <td>0</td>\n",
       "      <td>False</td>\n",
       "      <td>2385</td>\n",
       "      <td>1639</td>\n",
       "      <td>570</td>\n",
       "      <td>2142</td>\n",
       "      <td>477</td>\n",
       "      <td>251</td>\n",
       "      <td>939946.0</td>\n",
       "      <td>426.86</td>\n",
       "      <td>133.97</td>\n",
       "      <td>5342</td>\n",
       "      <td>35</td>\n",
       "      <td>370581</td>\n",
       "      <td>1</td>\n",
       "    </tr>\n",
       "    <tr>\n",
       "      <th>2</th>\n",
       "      <td>20471</td>\n",
       "      <td>normalEnd</td>\n",
       "      <td>74</td>\n",
       "      <td>0</td>\n",
       "      <td>773</td>\n",
       "      <td>0</td>\n",
       "      <td>False</td>\n",
       "      <td>839</td>\n",
       "      <td>581</td>\n",
       "      <td>213</td>\n",
       "      <td>773</td>\n",
       "      <td>300</td>\n",
       "      <td>191</td>\n",
       "      <td>668404.0</td>\n",
       "      <td>846.08</td>\n",
       "      <td>285.40</td>\n",
       "      <td>2767</td>\n",
       "      <td>24</td>\n",
       "      <td>26551</td>\n",
       "      <td>1</td>\n",
       "    </tr>\n",
       "    <tr>\n",
       "      <th>3</th>\n",
       "      <td>14446</td>\n",
       "      <td>normalEnd</td>\n",
       "      <td>493</td>\n",
       "      <td>0</td>\n",
       "      <td>28918</td>\n",
       "      <td>0</td>\n",
       "      <td>False</td>\n",
       "      <td>1460</td>\n",
       "      <td>816</td>\n",
       "      <td>561</td>\n",
       "      <td>1333</td>\n",
       "      <td>363</td>\n",
       "      <td>178</td>\n",
       "      <td>674843.0</td>\n",
       "      <td>491.87</td>\n",
       "      <td>158.08</td>\n",
       "      <td>3301</td>\n",
       "      <td>16</td>\n",
       "      <td>29144</td>\n",
       "      <td>1</td>\n",
       "    </tr>\n",
       "    <tr>\n",
       "      <th>4</th>\n",
       "      <td>14590</td>\n",
       "      <td>normalEnd</td>\n",
       "      <td>70</td>\n",
       "      <td>0</td>\n",
       "      <td>721</td>\n",
       "      <td>0</td>\n",
       "      <td>False</td>\n",
       "      <td>674</td>\n",
       "      <td>451</td>\n",
       "      <td>189</td>\n",
       "      <td>614</td>\n",
       "      <td>254</td>\n",
       "      <td>173</td>\n",
       "      <td>544953.0</td>\n",
       "      <td>856.84</td>\n",
       "      <td>290.33</td>\n",
       "      <td>1446</td>\n",
       "      <td>17</td>\n",
       "      <td>28961</td>\n",
       "      <td>1</td>\n",
       "    </tr>\n",
       "  </tbody>\n",
       "</table>\n",
       "</div>"
      ],
      "text/plain": [
       "   duration    closeBy  maxLiveViewerCount  privateLiveStream  \\\n",
       "0     44362  normalEnd                 117                  0   \n",
       "1     18427  normalEnd                 355                  0   \n",
       "2     20471  normalEnd                  74                  0   \n",
       "3     14446  normalEnd                 493                  0   \n",
       "4     14590  normalEnd                  70                  0   \n",
       "\n",
       "   receivedLikeCount  streamerType  isShow  uniqueViewerCount   ios  android  \\\n",
       "0               3447             0   False               1893   845      730   \n",
       "1              22479             0   False               2385  1639      570   \n",
       "2                773             0   False                839   581      213   \n",
       "3              28918             0   False               1460   816      561   \n",
       "4                721             0   False                674   451      189   \n",
       "\n",
       "   durationGTE5sec  durationGTE2min  durationGTE10min  totalViewerDuration  \\\n",
       "0             1503              493               302             919042.0   \n",
       "1             2142              477               251             939946.0   \n",
       "2              773              300               191             668404.0   \n",
       "3             1333              363               178             674843.0   \n",
       "4              614              254               173             544953.0   \n",
       "\n",
       "   avgViewerDuration  avgStreamJoinDuration  count  followIncreaseEstimated  \\\n",
       "0             588.38                 202.48   4571                       -3   \n",
       "1             426.86                 133.97   5342                       35   \n",
       "2             846.08                 285.40   2767                       24   \n",
       "3             491.87                 158.08   3301                       16   \n",
       "4             856.84                 290.33   1446                       17   \n",
       "\n",
       "   receivePointEstimated  Target  \n",
       "0                  71937       1  \n",
       "1                 370581       1  \n",
       "2                  26551       1  \n",
       "3                  29144       1  \n",
       "4                  28961       1  "
      ]
     },
     "execution_count": 13,
     "metadata": {},
     "output_type": "execute_result"
    }
   ],
   "source": [
    "# Check the remaining variables\n",
    "df.head()"
   ]
  },
  {
   "cell_type": "markdown",
   "metadata": {},
   "source": [
    "# Data Prepocessing "
   ]
  },
  {
   "cell_type": "code",
   "execution_count": 14,
   "metadata": {},
   "outputs": [
    {
     "data": {
      "text/plain": [
       "normalEnd            2673\n",
       "end by new stream     129\n",
       "disconnect            127\n",
       "Incoming call          65\n",
       "Killed                 21\n",
       "Freezed                16\n",
       "Upload failed          13\n",
       "Crash                   4\n",
       "Publish failed          2\n",
       "Keep alive failed       1\n",
       "Name: closeBy, dtype: int64"
      ]
     },
     "execution_count": 14,
     "metadata": {},
     "output_type": "execute_result"
    }
   ],
   "source": [
    "df.closeBy.value_counts()"
   ]
  },
  {
   "cell_type": "raw",
   "metadata": {},
   "source": [
    "Convert closeBy variable categorical to numeric"
   ]
  },
  {
   "cell_type": "code",
   "execution_count": 15,
   "metadata": {},
   "outputs": [],
   "source": [
    "categories = []\n",
    "for filename in df[\"closeBy\"]:\n",
    "    if filename == 'normalEnd':\n",
    "        categories.append(1)\n",
    "    elif filename == 'end by new stream':\n",
    "         categories.append(2)\n",
    "    elif filename == 'disconnect':\n",
    "         categories.append(3)\n",
    "    elif filename == 'Incoming call':\n",
    "         categories.append(4)\n",
    "    elif filename == 'Killed':\n",
    "         categories.append(5)\n",
    "    elif filename == 'Freezed':\n",
    "         categories.append(6)\n",
    "    elif filename == 'Upload failed':\n",
    "         categories.append(7)\n",
    "    elif filename == 'Crash':\n",
    "         categories.append(8)\n",
    "    elif filename == 'Publish failed':\n",
    "         categories.append(9)\n",
    "    elif filename == 'Keep alive failed':\n",
    "         categories.append(10)\n",
    "            \n",
    "    else:\n",
    "        categories.append(0)\n",
    "        \n",
    "\n",
    "df[\"closeBy\"] = categories"
   ]
  },
  {
   "cell_type": "code",
   "execution_count": 16,
   "metadata": {},
   "outputs": [
    {
     "data": {
      "text/plain": [
       "1     2673\n",
       "2      129\n",
       "3      127\n",
       "0       97\n",
       "4       65\n",
       "5       21\n",
       "6       16\n",
       "7       13\n",
       "8        4\n",
       "9        2\n",
       "10       1\n",
       "Name: closeBy, dtype: int64"
      ]
     },
     "execution_count": 16,
     "metadata": {},
     "output_type": "execute_result"
    }
   ],
   "source": [
    "df.closeBy.value_counts()"
   ]
  },
  {
   "cell_type": "code",
   "execution_count": 17,
   "metadata": {},
   "outputs": [
    {
     "data": {
      "text/plain": [
       "0    2520\n",
       "1     628\n",
       "Name: Target, dtype: int64"
      ]
     },
     "execution_count": 17,
     "metadata": {},
     "output_type": "execute_result"
    }
   ],
   "source": [
    "df.Target.value_counts()"
   ]
  },
  {
   "cell_type": "code",
   "execution_count": 18,
   "metadata": {},
   "outputs": [
    {
     "data": {
      "text/plain": [
       "<matplotlib.axes._subplots.AxesSubplot at 0x1ea7eac6d88>"
      ]
     },
     "execution_count": 18,
     "metadata": {},
     "output_type": "execute_result"
    },
    {
     "data": {
      "image/png": "[encoded data removed]",
      "text/plain": [
       "<Figure size 432x288 with 1 Axes>"
      ]
     },
     "metadata": {
      "needs_background": "light"
     },
     "output_type": "display_data"
    }
   ],
   "source": [
    "# Check the count of target variable\n",
    "sns.countplot(x='Target',data=df)"
   ]
  },
  {
   "cell_type": "code",
   "execution_count": 19,
   "metadata": {},
   "outputs": [
    {
     "data": {
      "text/html": [
       "<div>\n",
       "<style scoped>\n",
       "    .dataframe tbody tr th:only-of-type {\n",
       "        vertical-align: middle;\n",
       "    }\n",
       "\n",
       "    .dataframe tbody tr th {\n",
       "        vertical-align: top;\n",
       "    }\n",
       "\n",
       "    .dataframe thead th {\n",
       "        text-align: right;\n",
       "    }\n",
       "</style>\n",
       "<table border=\"1\" class=\"dataframe\">\n",
       "  <thead>\n",
       "    <tr style=\"text-align: right;\">\n",
       "      <th></th>\n",
       "      <th>duration</th>\n",
       "      <th>closeBy</th>\n",
       "      <th>maxLiveViewerCount</th>\n",
       "      <th>privateLiveStream</th>\n",
       "      <th>receivedLikeCount</th>\n",
       "      <th>streamerType</th>\n",
       "      <th>isShow</th>\n",
       "      <th>uniqueViewerCount</th>\n",
       "      <th>ios</th>\n",
       "      <th>android</th>\n",
       "      <th>durationGTE5sec</th>\n",
       "      <th>durationGTE2min</th>\n",
       "      <th>durationGTE10min</th>\n",
       "      <th>totalViewerDuration</th>\n",
       "      <th>avgViewerDuration</th>\n",
       "      <th>avgStreamJoinDuration</th>\n",
       "      <th>count</th>\n",
       "      <th>followIncreaseEstimated</th>\n",
       "      <th>receivePointEstimated</th>\n",
       "      <th>Target</th>\n",
       "    </tr>\n",
       "  </thead>\n",
       "  <tbody>\n",
       "    <tr>\n",
       "      <th>0</th>\n",
       "      <td>44362</td>\n",
       "      <td>1</td>\n",
       "      <td>117</td>\n",
       "      <td>0</td>\n",
       "      <td>3447</td>\n",
       "      <td>0</td>\n",
       "      <td>False</td>\n",
       "      <td>1893</td>\n",
       "      <td>845</td>\n",
       "      <td>730</td>\n",
       "      <td>1503</td>\n",
       "      <td>493</td>\n",
       "      <td>302</td>\n",
       "      <td>919042.0</td>\n",
       "      <td>588.38</td>\n",
       "      <td>202.48</td>\n",
       "      <td>4571</td>\n",
       "      <td>-3</td>\n",
       "      <td>71937</td>\n",
       "      <td>1</td>\n",
       "    </tr>\n",
       "    <tr>\n",
       "      <th>1</th>\n",
       "      <td>18427</td>\n",
       "      <td>1</td>\n",
       "      <td>355</td>\n",
       "      <td>0</td>\n",
       "      <td>22479</td>\n",
       "      <td>0</td>\n",
       "      <td>False</td>\n",
       "      <td>2385</td>\n",
       "      <td>1639</td>\n",
       "      <td>570</td>\n",
       "      <td>2142</td>\n",
       "      <td>477</td>\n",
       "      <td>251</td>\n",
       "      <td>939946.0</td>\n",
       "      <td>426.86</td>\n",
       "      <td>133.97</td>\n",
       "      <td>5342</td>\n",
       "      <td>35</td>\n",
       "      <td>370581</td>\n",
       "      <td>1</td>\n",
       "    </tr>\n",
       "    <tr>\n",
       "      <th>2</th>\n",
       "      <td>20471</td>\n",
       "      <td>1</td>\n",
       "      <td>74</td>\n",
       "      <td>0</td>\n",
       "      <td>773</td>\n",
       "      <td>0</td>\n",
       "      <td>False</td>\n",
       "      <td>839</td>\n",
       "      <td>581</td>\n",
       "      <td>213</td>\n",
       "      <td>773</td>\n",
       "      <td>300</td>\n",
       "      <td>191</td>\n",
       "      <td>668404.0</td>\n",
       "      <td>846.08</td>\n",
       "      <td>285.40</td>\n",
       "      <td>2767</td>\n",
       "      <td>24</td>\n",
       "      <td>26551</td>\n",
       "      <td>1</td>\n",
       "    </tr>\n",
       "    <tr>\n",
       "      <th>3</th>\n",
       "      <td>14446</td>\n",
       "      <td>1</td>\n",
       "      <td>493</td>\n",
       "      <td>0</td>\n",
       "      <td>28918</td>\n",
       "      <td>0</td>\n",
       "      <td>False</td>\n",
       "      <td>1460</td>\n",
       "      <td>816</td>\n",
       "      <td>561</td>\n",
       "      <td>1333</td>\n",
       "      <td>363</td>\n",
       "      <td>178</td>\n",
       "      <td>674843.0</td>\n",
       "      <td>491.87</td>\n",
       "      <td>158.08</td>\n",
       "      <td>3301</td>\n",
       "      <td>16</td>\n",
       "      <td>29144</td>\n",
       "      <td>1</td>\n",
       "    </tr>\n",
       "    <tr>\n",
       "      <th>4</th>\n",
       "      <td>14590</td>\n",
       "      <td>1</td>\n",
       "      <td>70</td>\n",
       "      <td>0</td>\n",
       "      <td>721</td>\n",
       "      <td>0</td>\n",
       "      <td>False</td>\n",
       "      <td>674</td>\n",
       "      <td>451</td>\n",
       "      <td>189</td>\n",
       "      <td>614</td>\n",
       "      <td>254</td>\n",
       "      <td>173</td>\n",
       "      <td>544953.0</td>\n",
       "      <td>856.84</td>\n",
       "      <td>290.33</td>\n",
       "      <td>1446</td>\n",
       "      <td>17</td>\n",
       "      <td>28961</td>\n",
       "      <td>1</td>\n",
       "    </tr>\n",
       "  </tbody>\n",
       "</table>\n",
       "</div>"
      ],
      "text/plain": [
       "   duration  closeBy  maxLiveViewerCount  privateLiveStream  \\\n",
       "0     44362        1                 117                  0   \n",
       "1     18427        1                 355                  0   \n",
       "2     20471        1                  74                  0   \n",
       "3     14446        1                 493                  0   \n",
       "4     14590        1                  70                  0   \n",
       "\n",
       "   receivedLikeCount  streamerType  isShow  uniqueViewerCount   ios  android  \\\n",
       "0               3447             0   False               1893   845      730   \n",
       "1              22479             0   False               2385  1639      570   \n",
       "2                773             0   False                839   581      213   \n",
       "3              28918             0   False               1460   816      561   \n",
       "4                721             0   False                674   451      189   \n",
       "\n",
       "   durationGTE5sec  durationGTE2min  durationGTE10min  totalViewerDuration  \\\n",
       "0             1503              493               302             919042.0   \n",
       "1             2142              477               251             939946.0   \n",
       "2              773              300               191             668404.0   \n",
       "3             1333              363               178             674843.0   \n",
       "4              614              254               173             544953.0   \n",
       "\n",
       "   avgViewerDuration  avgStreamJoinDuration  count  followIncreaseEstimated  \\\n",
       "0             588.38                 202.48   4571                       -3   \n",
       "1             426.86                 133.97   5342                       35   \n",
       "2             846.08                 285.40   2767                       24   \n",
       "3             491.87                 158.08   3301                       16   \n",
       "4             856.84                 290.33   1446                       17   \n",
       "\n",
       "   receivePointEstimated  Target  \n",
       "0                  71937       1  \n",
       "1                 370581       1  \n",
       "2                  26551       1  \n",
       "3                  29144       1  \n",
       "4                  28961       1  "
      ]
     },
     "execution_count": 19,
     "metadata": {},
     "output_type": "execute_result"
    }
   ],
   "source": [
    "df.head()"
   ]
  },
  {
   "cell_type": "markdown",
   "metadata": {},
   "source": [
    "# Checking outlies and replacing NAs Value with mode and median"
   ]
  },
  {
   "cell_type": "code",
   "execution_count": 20,
   "metadata": {},
   "outputs": [
    {
     "data": {
      "text/plain": [
       "<matplotlib.axes._subplots.AxesSubplot at 0x1ea7eaccb08>"
      ]
     },
     "execution_count": 20,
     "metadata": {},
     "output_type": "execute_result"
    },
    {
     "data": {
      "image/png": "[encoded data removed]",
      "text/plain": [
       "<Figure size 1800x5400 with 1 Axes>"
      ]
     },
     "metadata": {
      "needs_background": "light"
     },
     "output_type": "display_data"
    }
   ],
   "source": [
    "# Check outliers  and distribution of data\n",
    "plt.figure(figsize=(25,75))\n",
    "sns.boxplot(data=df, orient=\"h\", palette=\"Set2\")"
   ]
  },
  {
   "cell_type": "markdown",
   "metadata": {},
   "source": [
    "# Outliers Treatment"
   ]
  },
  {
   "cell_type": "code",
   "execution_count": 21,
   "metadata": {},
   "outputs": [],
   "source": [
    "def remove_outlier(df , col_in):\n",
    "    q1 = df[col_in].quantile(0.25)\n",
    "    q3 = df[col_in].quantile(0.75)\n",
    "    value = df[col_in].median()\n",
    "    iqr = q3-q1\n",
    "    x = list(df[col_in])\n",
    "    y = []\n",
    "    fence_low  = q1-1.5*iqr\n",
    "    fence_high = q3+1.5*iqr\n",
    "    for i in x:\n",
    "        if (i < fence_low) or (i > fence_high):\n",
    "            i = value\n",
    "            y.append(i)\n",
    "        else:\n",
    "            y.append(i)\n",
    "    df.drop(col_in,axis=1,inplace=True)\n",
    "    df[col_in] = y"
   ]
  },
  {
   "cell_type": "markdown",
   "metadata": {},
   "source": [
    "# Missing Values Treatment"
   ]
  },
  {
   "cell_type": "code",
   "execution_count": 22,
   "metadata": {},
   "outputs": [],
   "source": [
    "def remove_nan_by_median_value(df,col_in):\n",
    "    x = df[df[col_in] != np.nan][col_in].median()\n",
    "    df[col_in].replace(np.nan,x,inplace=True)"
   ]
  },
  {
   "cell_type": "code",
   "execution_count": 23,
   "metadata": {},
   "outputs": [],
   "source": [
    "def remove_nan_by_mode_value(df,col_in):\n",
    "    x = df[df[col_in] != np.nan][col_in].mode()\n",
    "    df[col_in].replace(np.nan,x,inplace=True)"
   ]
  },
  {
   "cell_type": "code",
   "execution_count": 24,
   "metadata": {},
   "outputs": [
    {
     "name": "stderr",
     "output_type": "stream",
     "text": [
      "C:\\Users\\lenovo\\Anaconda3\\lib\\site-packages\\numpy\\lib\\histograms.py:824: RuntimeWarning: invalid value encountered in greater_equal\n",
      "  keep = (tmp_a >= first_edge)\n",
      "C:\\Users\\lenovo\\Anaconda3\\lib\\site-packages\\numpy\\lib\\histograms.py:825: RuntimeWarning: invalid value encountered in less_equal\n",
      "  keep &= (tmp_a <= last_edge)\n",
      "C:\\Users\\lenovo\\Anaconda3\\lib\\site-packages\\statsmodels\\nonparametric\\kde.py:447: RuntimeWarning: invalid value encountered in greater\n",
      "  X = X[np.logical_and(X > clip[0], X < clip[1])] # won't work for two columns.\n",
      "C:\\Users\\lenovo\\Anaconda3\\lib\\site-packages\\statsmodels\\nonparametric\\kde.py:447: RuntimeWarning: invalid value encountered in less\n",
      "  X = X[np.logical_and(X > clip[0], X < clip[1])] # won't work for two columns.\n"
     ]
    },
    {
     "data": {
      "image/png": "[encoded data removed]",
      "text/plain": [
       "<Figure size 1080x1080 with 3 Axes>"
      ]
     },
     "metadata": {
      "needs_background": "light"
     },
     "output_type": "display_data"
    }
   ],
   "source": [
    "plt.figure(1,figsize=(15,15))\n",
    "plt.subplot(221)   \n",
    "plt.hist(df['avgStreamJoinDuration'])\n",
    "plt.subplot(222)\n",
    "sns.boxplot(df['avgStreamJoinDuration'])\n",
    "plt.subplot(223)\n",
    "sns.kdeplot(df['avgStreamJoinDuration'])\n",
    "remove_nan_by_median_value(df,'avgStreamJoinDuration')"
   ]
  },
  {
   "cell_type": "code",
   "execution_count": 25,
   "metadata": {},
   "outputs": [
    {
     "name": "stderr",
     "output_type": "stream",
     "text": [
      "C:\\Users\\lenovo\\Anaconda3\\lib\\site-packages\\numpy\\lib\\histograms.py:824: RuntimeWarning: invalid value encountered in greater_equal\n",
      "  keep = (tmp_a >= first_edge)\n",
      "C:\\Users\\lenovo\\Anaconda3\\lib\\site-packages\\numpy\\lib\\histograms.py:825: RuntimeWarning: invalid value encountered in less_equal\n",
      "  keep &= (tmp_a <= last_edge)\n",
      "C:\\Users\\lenovo\\Anaconda3\\lib\\site-packages\\statsmodels\\nonparametric\\kde.py:447: RuntimeWarning: invalid value encountered in greater\n",
      "  X = X[np.logical_and(X > clip[0], X < clip[1])] # won't work for two columns.\n",
      "C:\\Users\\lenovo\\Anaconda3\\lib\\site-packages\\statsmodels\\nonparametric\\kde.py:447: RuntimeWarning: invalid value encountered in less\n",
      "  X = X[np.logical_and(X > clip[0], X < clip[1])] # won't work for two columns.\n"
     ]
    },
    {
     "data": {
      "image/png": "[encoded data removed]",
      "text/plain": [
       "<Figure size 1080x1080 with 3 Axes>"
      ]
     },
     "metadata": {
      "needs_background": "light"
     },
     "output_type": "display_data"
    }
   ],
   "source": [
    "plt.figure(1,figsize=(15,15))\n",
    "plt.subplot(221)   \n",
    "plt.hist(df['avgViewerDuration'])\n",
    "plt.subplot(222)\n",
    "sns.boxplot(df['avgViewerDuration'])\n",
    "plt.subplot(223)\n",
    "sns.kdeplot(df['avgViewerDuration'])\n",
    "remove_nan_by_median_value(df,'avgViewerDuration')"
   ]
  },
  {
   "cell_type": "code",
   "execution_count": 26,
   "metadata": {},
   "outputs": [
    {
     "name": "stderr",
     "output_type": "stream",
     "text": [
      "C:\\Users\\lenovo\\Anaconda3\\lib\\site-packages\\numpy\\lib\\histograms.py:824: RuntimeWarning: invalid value encountered in greater_equal\n",
      "  keep = (tmp_a >= first_edge)\n",
      "C:\\Users\\lenovo\\Anaconda3\\lib\\site-packages\\numpy\\lib\\histograms.py:825: RuntimeWarning: invalid value encountered in less_equal\n",
      "  keep &= (tmp_a <= last_edge)\n",
      "C:\\Users\\lenovo\\Anaconda3\\lib\\site-packages\\statsmodels\\nonparametric\\kde.py:447: RuntimeWarning: invalid value encountered in greater\n",
      "  X = X[np.logical_and(X > clip[0], X < clip[1])] # won't work for two columns.\n",
      "C:\\Users\\lenovo\\Anaconda3\\lib\\site-packages\\statsmodels\\nonparametric\\kde.py:447: RuntimeWarning: invalid value encountered in less\n",
      "  X = X[np.logical_and(X > clip[0], X < clip[1])] # won't work for two columns.\n"
     ]
    },
    {
     "data": {
      "image/png": "[encoded data removed]",
      "text/plain": [
       "<Figure size 1080x1080 with 3 Axes>"
      ]
     },
     "metadata": {
      "needs_background": "light"
     },
     "output_type": "display_data"
    }
   ],
   "source": [
    "plt.figure(1,figsize=(15,15))\n",
    "plt.subplot(221)   \n",
    "plt.hist(df['totalViewerDuration'])\n",
    "plt.subplot(222)\n",
    "sns.boxplot(df['totalViewerDuration'])\n",
    "plt.subplot(223)\n",
    "sns.kdeplot(df['totalViewerDuration'])\n",
    "remove_nan_by_median_value(df,'totalViewerDuration')"
   ]
  },
  {
   "cell_type": "code",
   "execution_count": 27,
   "metadata": {},
   "outputs": [
    {
     "data": {
      "image/png": "[encoded data removed]",
      "text/plain": [
       "<Figure size 1080x1080 with 2 Axes>"
      ]
     },
     "metadata": {
      "needs_background": "light"
     },
     "output_type": "display_data"
    }
   ],
   "source": [
    "plt.figure(1,figsize=(15,15))\n",
    "plt.subplot(221)   \n",
    "plt.hist(df['closeBy'])\n",
    "plt.subplot(222)\n",
    "sns.boxplot(df['closeBy'])\n",
    "\n",
    "remove_nan_by_mode_value(df,'closeBy')"
   ]
  },
  {
   "cell_type": "markdown",
   "metadata": {},
   "source": [
    "# Now you can see that our data doesn't contains any NAs Values"
   ]
  },
  {
   "cell_type": "code",
   "execution_count": 28,
   "metadata": {},
   "outputs": [
    {
     "name": "stdout",
     "output_type": "stream",
     "text": [
      "<class 'pandas.core.frame.DataFrame'>\n",
      "RangeIndex: 3148 entries, 0 to 3147\n",
      "Data columns (total 20 columns):\n",
      " #   Column                   Non-Null Count  Dtype  \n",
      "---  ------                   --------------  -----  \n",
      " 0   duration                 3148 non-null   int64  \n",
      " 1   closeBy                  3148 non-null   int64  \n",
      " 2   maxLiveViewerCount       3148 non-null   int64  \n",
      " 3   privateLiveStream        3148 non-null   int64  \n",
      " 4   receivedLikeCount        3148 non-null   int64  \n",
      " 5   streamerType             3148 non-null   int64  \n",
      " 6   isShow                   3148 non-null   bool   \n",
      " 7   uniqueViewerCount        3148 non-null   int64  \n",
      " 8   ios                      3148 non-null   int64  \n",
      " 9   android                  3148 non-null   int64  \n",
      " 10  durationGTE5sec          3148 non-null   int64  \n",
      " 11  durationGTE2min          3148 non-null   int64  \n",
      " 12  durationGTE10min         3148 non-null   int64  \n",
      " 13  totalViewerDuration      3148 non-null   float64\n",
      " 14  avgViewerDuration        3148 non-null   float64\n",
      " 15  avgStreamJoinDuration    3148 non-null   float64\n",
      " 16  count                    3148 non-null   int64  \n",
      " 17  followIncreaseEstimated  3148 non-null   int64  \n",
      " 18  receivePointEstimated    3148 non-null   int64  \n",
      " 19  Target                   3148 non-null   int64  \n",
      "dtypes: bool(1), float64(3), int64(16)\n",
      "memory usage: 470.5 KB\n"
     ]
    }
   ],
   "source": [
    "df.info()"
   ]
  },
  {
   "cell_type": "markdown",
   "metadata": {},
   "source": [
    "# Check relation between data"
   ]
  },
  {
   "cell_type": "code",
   "execution_count": 29,
   "metadata": {},
   "outputs": [
    {
     "data": {
      "text/html": [
       "<div>\n",
       "<style scoped>\n",
       "    .dataframe tbody tr th:only-of-type {\n",
       "        vertical-align: middle;\n",
       "    }\n",
       "\n",
       "    .dataframe tbody tr th {\n",
       "        vertical-align: top;\n",
       "    }\n",
       "\n",
       "    .dataframe thead th {\n",
       "        text-align: right;\n",
       "    }\n",
       "</style>\n",
       "<table border=\"1\" class=\"dataframe\">\n",
       "  <thead>\n",
       "    <tr style=\"text-align: right;\">\n",
       "      <th></th>\n",
       "      <th>duration</th>\n",
       "      <th>closeBy</th>\n",
       "      <th>maxLiveViewerCount</th>\n",
       "      <th>privateLiveStream</th>\n",
       "      <th>receivedLikeCount</th>\n",
       "      <th>streamerType</th>\n",
       "      <th>isShow</th>\n",
       "      <th>uniqueViewerCount</th>\n",
       "      <th>ios</th>\n",
       "      <th>android</th>\n",
       "      <th>durationGTE5sec</th>\n",
       "      <th>durationGTE2min</th>\n",
       "      <th>durationGTE10min</th>\n",
       "      <th>totalViewerDuration</th>\n",
       "      <th>avgViewerDuration</th>\n",
       "      <th>avgStreamJoinDuration</th>\n",
       "      <th>count</th>\n",
       "      <th>followIncreaseEstimated</th>\n",
       "      <th>receivePointEstimated</th>\n",
       "      <th>Target</th>\n",
       "    </tr>\n",
       "  </thead>\n",
       "  <tbody>\n",
       "    <tr>\n",
       "      <th>duration</th>\n",
       "      <td>1.000000</td>\n",
       "      <td>0.005412</td>\n",
       "      <td>0.307272</td>\n",
       "      <td>NaN</td>\n",
       "      <td>0.221690</td>\n",
       "      <td>NaN</td>\n",
       "      <td>NaN</td>\n",
       "      <td>0.440732</td>\n",
       "      <td>0.431729</td>\n",
       "      <td>0.409987</td>\n",
       "      <td>0.433552</td>\n",
       "      <td>0.424474</td>\n",
       "      <td>0.395220</td>\n",
       "      <td>0.384243</td>\n",
       "      <td>0.287408</td>\n",
       "      <td>0.223032</td>\n",
       "      <td>0.498722</td>\n",
       "      <td>0.097034</td>\n",
       "      <td>0.314782</td>\n",
       "      <td>0.423149</td>\n",
       "    </tr>\n",
       "    <tr>\n",
       "      <th>closeBy</th>\n",
       "      <td>0.005412</td>\n",
       "      <td>1.000000</td>\n",
       "      <td>-0.042708</td>\n",
       "      <td>NaN</td>\n",
       "      <td>-0.025516</td>\n",
       "      <td>NaN</td>\n",
       "      <td>NaN</td>\n",
       "      <td>-0.046446</td>\n",
       "      <td>-0.044215</td>\n",
       "      <td>-0.048609</td>\n",
       "      <td>-0.047038</td>\n",
       "      <td>-0.049622</td>\n",
       "      <td>-0.044657</td>\n",
       "      <td>-0.040008</td>\n",
       "      <td>-0.021250</td>\n",
       "      <td>-0.021633</td>\n",
       "      <td>-0.058161</td>\n",
       "      <td>-0.021318</td>\n",
       "      <td>-0.022613</td>\n",
       "      <td>-0.063776</td>\n",
       "    </tr>\n",
       "    <tr>\n",
       "      <th>maxLiveViewerCount</th>\n",
       "      <td>0.307272</td>\n",
       "      <td>-0.042708</td>\n",
       "      <td>1.000000</td>\n",
       "      <td>NaN</td>\n",
       "      <td>0.686648</td>\n",
       "      <td>NaN</td>\n",
       "      <td>NaN</td>\n",
       "      <td>0.806334</td>\n",
       "      <td>0.733755</td>\n",
       "      <td>0.803905</td>\n",
       "      <td>0.781332</td>\n",
       "      <td>0.583564</td>\n",
       "      <td>0.456965</td>\n",
       "      <td>0.481974</td>\n",
       "      <td>-0.004020</td>\n",
       "      <td>-0.046960</td>\n",
       "      <td>0.567459</td>\n",
       "      <td>0.206399</td>\n",
       "      <td>0.376570</td>\n",
       "      <td>0.467470</td>\n",
       "    </tr>\n",
       "    <tr>\n",
       "      <th>privateLiveStream</th>\n",
       "      <td>NaN</td>\n",
       "      <td>NaN</td>\n",
       "      <td>NaN</td>\n",
       "      <td>NaN</td>\n",
       "      <td>NaN</td>\n",
       "      <td>NaN</td>\n",
       "      <td>NaN</td>\n",
       "      <td>NaN</td>\n",
       "      <td>NaN</td>\n",
       "      <td>NaN</td>\n",
       "      <td>NaN</td>\n",
       "      <td>NaN</td>\n",
       "      <td>NaN</td>\n",
       "      <td>NaN</td>\n",
       "      <td>NaN</td>\n",
       "      <td>NaN</td>\n",
       "      <td>NaN</td>\n",
       "      <td>NaN</td>\n",
       "      <td>NaN</td>\n",
       "      <td>NaN</td>\n",
       "    </tr>\n",
       "    <tr>\n",
       "      <th>receivedLikeCount</th>\n",
       "      <td>0.221690</td>\n",
       "      <td>-0.025516</td>\n",
       "      <td>0.686648</td>\n",
       "      <td>NaN</td>\n",
       "      <td>1.000000</td>\n",
       "      <td>NaN</td>\n",
       "      <td>NaN</td>\n",
       "      <td>0.732610</td>\n",
       "      <td>0.659620</td>\n",
       "      <td>0.672789</td>\n",
       "      <td>0.681670</td>\n",
       "      <td>0.523017</td>\n",
       "      <td>0.354909</td>\n",
       "      <td>0.410406</td>\n",
       "      <td>-0.007836</td>\n",
       "      <td>-0.043570</td>\n",
       "      <td>0.482471</td>\n",
       "      <td>0.201927</td>\n",
       "      <td>0.298659</td>\n",
       "      <td>0.276720</td>\n",
       "    </tr>\n",
       "    <tr>\n",
       "      <th>streamerType</th>\n",
       "      <td>NaN</td>\n",
       "      <td>NaN</td>\n",
       "      <td>NaN</td>\n",
       "      <td>NaN</td>\n",
       "      <td>NaN</td>\n",
       "      <td>NaN</td>\n",
       "      <td>NaN</td>\n",
       "      <td>NaN</td>\n",
       "      <td>NaN</td>\n",
       "      <td>NaN</td>\n",
       "      <td>NaN</td>\n",
       "      <td>NaN</td>\n",
       "      <td>NaN</td>\n",
       "      <td>NaN</td>\n",
       "      <td>NaN</td>\n",
       "      <td>NaN</td>\n",
       "      <td>NaN</td>\n",
       "      <td>NaN</td>\n",
       "      <td>NaN</td>\n",
       "      <td>NaN</td>\n",
       "    </tr>\n",
       "    <tr>\n",
       "      <th>isShow</th>\n",
       "      <td>NaN</td>\n",
       "      <td>NaN</td>\n",
       "      <td>NaN</td>\n",
       "      <td>NaN</td>\n",
       "      <td>NaN</td>\n",
       "      <td>NaN</td>\n",
       "      <td>NaN</td>\n",
       "      <td>NaN</td>\n",
       "      <td>NaN</td>\n",
       "      <td>NaN</td>\n",
       "      <td>NaN</td>\n",
       "      <td>NaN</td>\n",
       "      <td>NaN</td>\n",
       "      <td>NaN</td>\n",
       "      <td>NaN</td>\n",
       "      <td>NaN</td>\n",
       "      <td>NaN</td>\n",
       "      <td>NaN</td>\n",
       "      <td>NaN</td>\n",
       "      <td>NaN</td>\n",
       "    </tr>\n",
       "    <tr>\n",
       "      <th>uniqueViewerCount</th>\n",
       "      <td>0.440732</td>\n",
       "      <td>-0.046446</td>\n",
       "      <td>0.806334</td>\n",
       "      <td>NaN</td>\n",
       "      <td>0.732610</td>\n",
       "      <td>NaN</td>\n",
       "      <td>NaN</td>\n",
       "      <td>1.000000</td>\n",
       "      <td>0.958204</td>\n",
       "      <td>0.939680</td>\n",
       "      <td>0.975623</td>\n",
       "      <td>0.862327</td>\n",
       "      <td>0.743654</td>\n",
       "      <td>0.760067</td>\n",
       "      <td>0.070383</td>\n",
       "      <td>0.001996</td>\n",
       "      <td>0.830488</td>\n",
       "      <td>0.268935</td>\n",
       "      <td>0.573528</td>\n",
       "      <td>0.530659</td>\n",
       "    </tr>\n",
       "    <tr>\n",
       "      <th>ios</th>\n",
       "      <td>0.431729</td>\n",
       "      <td>-0.044215</td>\n",
       "      <td>0.733755</td>\n",
       "      <td>NaN</td>\n",
       "      <td>0.659620</td>\n",
       "      <td>NaN</td>\n",
       "      <td>NaN</td>\n",
       "      <td>0.958204</td>\n",
       "      <td>1.000000</td>\n",
       "      <td>0.884525</td>\n",
       "      <td>0.980800</td>\n",
       "      <td>0.915022</td>\n",
       "      <td>0.802202</td>\n",
       "      <td>0.831006</td>\n",
       "      <td>0.102099</td>\n",
       "      <td>0.023624</td>\n",
       "      <td>0.848637</td>\n",
       "      <td>0.282193</td>\n",
       "      <td>0.598978</td>\n",
       "      <td>0.509665</td>\n",
       "    </tr>\n",
       "    <tr>\n",
       "      <th>android</th>\n",
       "      <td>0.409987</td>\n",
       "      <td>-0.048609</td>\n",
       "      <td>0.803905</td>\n",
       "      <td>NaN</td>\n",
       "      <td>0.672789</td>\n",
       "      <td>NaN</td>\n",
       "      <td>NaN</td>\n",
       "      <td>0.939680</td>\n",
       "      <td>0.884525</td>\n",
       "      <td>1.000000</td>\n",
       "      <td>0.957211</td>\n",
       "      <td>0.800500</td>\n",
       "      <td>0.689846</td>\n",
       "      <td>0.699356</td>\n",
       "      <td>0.038351</td>\n",
       "      <td>-0.026833</td>\n",
       "      <td>0.744381</td>\n",
       "      <td>0.249412</td>\n",
       "      <td>0.490999</td>\n",
       "      <td>0.529004</td>\n",
       "    </tr>\n",
       "    <tr>\n",
       "      <th>durationGTE5sec</th>\n",
       "      <td>0.433552</td>\n",
       "      <td>-0.047038</td>\n",
       "      <td>0.781332</td>\n",
       "      <td>NaN</td>\n",
       "      <td>0.681670</td>\n",
       "      <td>NaN</td>\n",
       "      <td>NaN</td>\n",
       "      <td>0.975623</td>\n",
       "      <td>0.980800</td>\n",
       "      <td>0.957211</td>\n",
       "      <td>1.000000</td>\n",
       "      <td>0.895717</td>\n",
       "      <td>0.780139</td>\n",
       "      <td>0.801191</td>\n",
       "      <td>0.079977</td>\n",
       "      <td>0.004267</td>\n",
       "      <td>0.827587</td>\n",
       "      <td>0.277363</td>\n",
       "      <td>0.570936</td>\n",
       "      <td>0.531459</td>\n",
       "    </tr>\n",
       "    <tr>\n",
       "      <th>durationGTE2min</th>\n",
       "      <td>0.424474</td>\n",
       "      <td>-0.049622</td>\n",
       "      <td>0.583564</td>\n",
       "      <td>NaN</td>\n",
       "      <td>0.523017</td>\n",
       "      <td>NaN</td>\n",
       "      <td>NaN</td>\n",
       "      <td>0.862327</td>\n",
       "      <td>0.915022</td>\n",
       "      <td>0.800500</td>\n",
       "      <td>0.895717</td>\n",
       "      <td>1.000000</td>\n",
       "      <td>0.939578</td>\n",
       "      <td>0.931079</td>\n",
       "      <td>0.230338</td>\n",
       "      <td>0.118959</td>\n",
       "      <td>0.873384</td>\n",
       "      <td>0.235634</td>\n",
       "      <td>0.484096</td>\n",
       "      <td>0.550957</td>\n",
       "    </tr>\n",
       "    <tr>\n",
       "      <th>durationGTE10min</th>\n",
       "      <td>0.395220</td>\n",
       "      <td>-0.044657</td>\n",
       "      <td>0.456965</td>\n",
       "      <td>NaN</td>\n",
       "      <td>0.354909</td>\n",
       "      <td>NaN</td>\n",
       "      <td>NaN</td>\n",
       "      <td>0.743654</td>\n",
       "      <td>0.802202</td>\n",
       "      <td>0.689846</td>\n",
       "      <td>0.780139</td>\n",
       "      <td>0.939578</td>\n",
       "      <td>1.000000</td>\n",
       "      <td>0.969752</td>\n",
       "      <td>0.306576</td>\n",
       "      <td>0.178644</td>\n",
       "      <td>0.836528</td>\n",
       "      <td>0.162771</td>\n",
       "      <td>0.429359</td>\n",
       "      <td>0.524528</td>\n",
       "    </tr>\n",
       "    <tr>\n",
       "      <th>totalViewerDuration</th>\n",
       "      <td>0.384243</td>\n",
       "      <td>-0.040008</td>\n",
       "      <td>0.481974</td>\n",
       "      <td>NaN</td>\n",
       "      <td>0.410406</td>\n",
       "      <td>NaN</td>\n",
       "      <td>NaN</td>\n",
       "      <td>0.760067</td>\n",
       "      <td>0.831006</td>\n",
       "      <td>0.699356</td>\n",
       "      <td>0.801191</td>\n",
       "      <td>0.931079</td>\n",
       "      <td>0.969752</td>\n",
       "      <td>1.000000</td>\n",
       "      <td>0.294478</td>\n",
       "      <td>0.163919</td>\n",
       "      <td>0.846785</td>\n",
       "      <td>0.169300</td>\n",
       "      <td>0.455054</td>\n",
       "      <td>0.451494</td>\n",
       "    </tr>\n",
       "    <tr>\n",
       "      <th>avgViewerDuration</th>\n",
       "      <td>0.287408</td>\n",
       "      <td>-0.021250</td>\n",
       "      <td>-0.004020</td>\n",
       "      <td>NaN</td>\n",
       "      <td>-0.007836</td>\n",
       "      <td>NaN</td>\n",
       "      <td>NaN</td>\n",
       "      <td>0.070383</td>\n",
       "      <td>0.102099</td>\n",
       "      <td>0.038351</td>\n",
       "      <td>0.079977</td>\n",
       "      <td>0.230338</td>\n",
       "      <td>0.306576</td>\n",
       "      <td>0.294478</td>\n",
       "      <td>1.000000</td>\n",
       "      <td>0.881016</td>\n",
       "      <td>0.301259</td>\n",
       "      <td>-0.044073</td>\n",
       "      <td>0.089445</td>\n",
       "      <td>0.371699</td>\n",
       "    </tr>\n",
       "    <tr>\n",
       "      <th>avgStreamJoinDuration</th>\n",
       "      <td>0.223032</td>\n",
       "      <td>-0.021633</td>\n",
       "      <td>-0.046960</td>\n",
       "      <td>NaN</td>\n",
       "      <td>-0.043570</td>\n",
       "      <td>NaN</td>\n",
       "      <td>NaN</td>\n",
       "      <td>0.001996</td>\n",
       "      <td>0.023624</td>\n",
       "      <td>-0.026833</td>\n",
       "      <td>0.004267</td>\n",
       "      <td>0.118959</td>\n",
       "      <td>0.178644</td>\n",
       "      <td>0.163919</td>\n",
       "      <td>0.881016</td>\n",
       "      <td>1.000000</td>\n",
       "      <td>0.172212</td>\n",
       "      <td>-0.021940</td>\n",
       "      <td>0.043508</td>\n",
       "      <td>0.250978</td>\n",
       "    </tr>\n",
       "    <tr>\n",
       "      <th>count</th>\n",
       "      <td>0.498722</td>\n",
       "      <td>-0.058161</td>\n",
       "      <td>0.567459</td>\n",
       "      <td>NaN</td>\n",
       "      <td>0.482471</td>\n",
       "      <td>NaN</td>\n",
       "      <td>NaN</td>\n",
       "      <td>0.830488</td>\n",
       "      <td>0.848637</td>\n",
       "      <td>0.744381</td>\n",
       "      <td>0.827587</td>\n",
       "      <td>0.873384</td>\n",
       "      <td>0.836528</td>\n",
       "      <td>0.846785</td>\n",
       "      <td>0.301259</td>\n",
       "      <td>0.172212</td>\n",
       "      <td>1.000000</td>\n",
       "      <td>0.190654</td>\n",
       "      <td>0.555058</td>\n",
       "      <td>0.614870</td>\n",
       "    </tr>\n",
       "    <tr>\n",
       "      <th>followIncreaseEstimated</th>\n",
       "      <td>0.097034</td>\n",
       "      <td>-0.021318</td>\n",
       "      <td>0.206399</td>\n",
       "      <td>NaN</td>\n",
       "      <td>0.201927</td>\n",
       "      <td>NaN</td>\n",
       "      <td>NaN</td>\n",
       "      <td>0.268935</td>\n",
       "      <td>0.282193</td>\n",
       "      <td>0.249412</td>\n",
       "      <td>0.277363</td>\n",
       "      <td>0.235634</td>\n",
       "      <td>0.162771</td>\n",
       "      <td>0.169300</td>\n",
       "      <td>-0.044073</td>\n",
       "      <td>-0.021940</td>\n",
       "      <td>0.190654</td>\n",
       "      <td>1.000000</td>\n",
       "      <td>0.155599</td>\n",
       "      <td>0.109920</td>\n",
       "    </tr>\n",
       "    <tr>\n",
       "      <th>receivePointEstimated</th>\n",
       "      <td>0.314782</td>\n",
       "      <td>-0.022613</td>\n",
       "      <td>0.376570</td>\n",
       "      <td>NaN</td>\n",
       "      <td>0.298659</td>\n",
       "      <td>NaN</td>\n",
       "      <td>NaN</td>\n",
       "      <td>0.573528</td>\n",
       "      <td>0.598978</td>\n",
       "      <td>0.490999</td>\n",
       "      <td>0.570936</td>\n",
       "      <td>0.484096</td>\n",
       "      <td>0.429359</td>\n",
       "      <td>0.455054</td>\n",
       "      <td>0.089445</td>\n",
       "      <td>0.043508</td>\n",
       "      <td>0.555058</td>\n",
       "      <td>0.155599</td>\n",
       "      <td>1.000000</td>\n",
       "      <td>0.312812</td>\n",
       "    </tr>\n",
       "    <tr>\n",
       "      <th>Target</th>\n",
       "      <td>0.423149</td>\n",
       "      <td>-0.063776</td>\n",
       "      <td>0.467470</td>\n",
       "      <td>NaN</td>\n",
       "      <td>0.276720</td>\n",
       "      <td>NaN</td>\n",
       "      <td>NaN</td>\n",
       "      <td>0.530659</td>\n",
       "      <td>0.509665</td>\n",
       "      <td>0.529004</td>\n",
       "      <td>0.531459</td>\n",
       "      <td>0.550957</td>\n",
       "      <td>0.524528</td>\n",
       "      <td>0.451494</td>\n",
       "      <td>0.371699</td>\n",
       "      <td>0.250978</td>\n",
       "      <td>0.614870</td>\n",
       "      <td>0.109920</td>\n",
       "      <td>0.312812</td>\n",
       "      <td>1.000000</td>\n",
       "    </tr>\n",
       "  </tbody>\n",
       "</table>\n",
       "</div>"
      ],
      "text/plain": [
       "                         duration   closeBy  maxLiveViewerCount  \\\n",
       "duration                 1.000000  0.005412            0.307272   \n",
       "closeBy                  0.005412  1.000000           -0.042708   \n",
       "maxLiveViewerCount       0.307272 -0.042708            1.000000   \n",
       "privateLiveStream             NaN       NaN                 NaN   \n",
       "receivedLikeCount        0.221690 -0.025516            0.686648   \n",
       "streamerType                  NaN       NaN                 NaN   \n",
       "isShow                        NaN       NaN                 NaN   \n",
       "uniqueViewerCount        0.440732 -0.046446            0.806334   \n",
       "ios                      0.431729 -0.044215            0.733755   \n",
       "android                  0.409987 -0.048609            0.803905   \n",
       "durationGTE5sec          0.433552 -0.047038            0.781332   \n",
       "durationGTE2min          0.424474 -0.049622            0.583564   \n",
       "durationGTE10min         0.395220 -0.044657            0.456965   \n",
       "totalViewerDuration      0.384243 -0.040008            0.481974   \n",
       "avgViewerDuration        0.287408 -0.021250           -0.004020   \n",
       "avgStreamJoinDuration    0.223032 -0.021633           -0.046960   \n",
       "count                    0.498722 -0.058161            0.567459   \n",
       "followIncreaseEstimated  0.097034 -0.021318            0.206399   \n",
       "receivePointEstimated    0.314782 -0.022613            0.376570   \n",
       "Target                   0.423149 -0.063776            0.467470   \n",
       "\n",
       "                         privateLiveStream  receivedLikeCount  streamerType  \\\n",
       "duration                               NaN           0.221690           NaN   \n",
       "closeBy                                NaN          -0.025516           NaN   \n",
       "maxLiveViewerCount                     NaN           0.686648           NaN   \n",
       "privateLiveStream                      NaN                NaN           NaN   \n",
       "receivedLikeCount                      NaN           1.000000           NaN   \n",
       "streamerType                           NaN                NaN           NaN   \n",
       "isShow                                 NaN                NaN           NaN   \n",
       "uniqueViewerCount                      NaN           0.732610           NaN   \n",
       "ios                                    NaN           0.659620           NaN   \n",
       "android                                NaN           0.672789           NaN   \n",
       "durationGTE5sec                        NaN           0.681670           NaN   \n",
       "durationGTE2min                        NaN           0.523017           NaN   \n",
       "durationGTE10min                       NaN           0.354909           NaN   \n",
       "totalViewerDuration                    NaN           0.410406           NaN   \n",
       "avgViewerDuration                      NaN          -0.007836           NaN   \n",
       "avgStreamJoinDuration                  NaN          -0.043570           NaN   \n",
       "count                                  NaN           0.482471           NaN   \n",
       "followIncreaseEstimated                NaN           0.201927           NaN   \n",
       "receivePointEstimated                  NaN           0.298659           NaN   \n",
       "Target                                 NaN           0.276720           NaN   \n",
       "\n",
       "                         isShow  uniqueViewerCount       ios   android  \\\n",
       "duration                    NaN           0.440732  0.431729  0.409987   \n",
       "closeBy                     NaN          -0.046446 -0.044215 -0.048609   \n",
       "maxLiveViewerCount          NaN           0.806334  0.733755  0.803905   \n",
       "privateLiveStream           NaN                NaN       NaN       NaN   \n",
       "receivedLikeCount           NaN           0.732610  0.659620  0.672789   \n",
       "streamerType                NaN                NaN       NaN       NaN   \n",
       "isShow                      NaN                NaN       NaN       NaN   \n",
       "uniqueViewerCount           NaN           1.000000  0.958204  0.939680   \n",
       "ios                         NaN           0.958204  1.000000  0.884525   \n",
       "android                     NaN           0.939680  0.884525  1.000000   \n",
       "durationGTE5sec             NaN           0.975623  0.980800  0.957211   \n",
       "durationGTE2min             NaN           0.862327  0.915022  0.800500   \n",
       "durationGTE10min            NaN           0.743654  0.802202  0.689846   \n",
       "totalViewerDuration         NaN           0.760067  0.831006  0.699356   \n",
       "avgViewerDuration           NaN           0.070383  0.102099  0.038351   \n",
       "avgStreamJoinDuration       NaN           0.001996  0.023624 -0.026833   \n",
       "count                       NaN           0.830488  0.848637  0.744381   \n",
       "followIncreaseEstimated     NaN           0.268935  0.282193  0.249412   \n",
       "receivePointEstimated       NaN           0.573528  0.598978  0.490999   \n",
       "Target                      NaN           0.530659  0.509665  0.529004   \n",
       "\n",
       "                         durationGTE5sec  durationGTE2min  durationGTE10min  \\\n",
       "duration                        0.433552         0.424474          0.395220   \n",
       "closeBy                        -0.047038        -0.049622         -0.044657   \n",
       "maxLiveViewerCount              0.781332         0.583564          0.456965   \n",
       "privateLiveStream                    NaN              NaN               NaN   \n",
       "receivedLikeCount               0.681670         0.523017          0.354909   \n",
       "streamerType                         NaN              NaN               NaN   \n",
       "isShow                               NaN              NaN               NaN   \n",
       "uniqueViewerCount               0.975623         0.862327          0.743654   \n",
       "ios                             0.980800         0.915022          0.802202   \n",
       "android                         0.957211         0.800500          0.689846   \n",
       "durationGTE5sec                 1.000000         0.895717          0.780139   \n",
       "durationGTE2min                 0.895717         1.000000          0.939578   \n",
       "durationGTE10min                0.780139         0.939578          1.000000   \n",
       "totalViewerDuration             0.801191         0.931079          0.969752   \n",
       "avgViewerDuration               0.079977         0.230338          0.306576   \n",
       "avgStreamJoinDuration           0.004267         0.118959          0.178644   \n",
       "count                           0.827587         0.873384          0.836528   \n",
       "followIncreaseEstimated         0.277363         0.235634          0.162771   \n",
       "receivePointEstimated           0.570936         0.484096          0.429359   \n",
       "Target                          0.531459         0.550957          0.524528   \n",
       "\n",
       "                         totalViewerDuration  avgViewerDuration  \\\n",
       "duration                            0.384243           0.287408   \n",
       "closeBy                            -0.040008          -0.021250   \n",
       "maxLiveViewerCount                  0.481974          -0.004020   \n",
       "privateLiveStream                        NaN                NaN   \n",
       "receivedLikeCount                   0.410406          -0.007836   \n",
       "streamerType                             NaN                NaN   \n",
       "isShow                                   NaN                NaN   \n",
       "uniqueViewerCount                   0.760067           0.070383   \n",
       "ios                                 0.831006           0.102099   \n",
       "android                             0.699356           0.038351   \n",
       "durationGTE5sec                     0.801191           0.079977   \n",
       "durationGTE2min                     0.931079           0.230338   \n",
       "durationGTE10min                    0.969752           0.306576   \n",
       "totalViewerDuration                 1.000000           0.294478   \n",
       "avgViewerDuration                   0.294478           1.000000   \n",
       "avgStreamJoinDuration               0.163919           0.881016   \n",
       "count                               0.846785           0.301259   \n",
       "followIncreaseEstimated             0.169300          -0.044073   \n",
       "receivePointEstimated               0.455054           0.089445   \n",
       "Target                              0.451494           0.371699   \n",
       "\n",
       "                         avgStreamJoinDuration     count  \\\n",
       "duration                              0.223032  0.498722   \n",
       "closeBy                              -0.021633 -0.058161   \n",
       "maxLiveViewerCount                   -0.046960  0.567459   \n",
       "privateLiveStream                          NaN       NaN   \n",
       "receivedLikeCount                    -0.043570  0.482471   \n",
       "streamerType                               NaN       NaN   \n",
       "isShow                                     NaN       NaN   \n",
       "uniqueViewerCount                     0.001996  0.830488   \n",
       "ios                                   0.023624  0.848637   \n",
       "android                              -0.026833  0.744381   \n",
       "durationGTE5sec                       0.004267  0.827587   \n",
       "durationGTE2min                       0.118959  0.873384   \n",
       "durationGTE10min                      0.178644  0.836528   \n",
       "totalViewerDuration                   0.163919  0.846785   \n",
       "avgViewerDuration                     0.881016  0.301259   \n",
       "avgStreamJoinDuration                 1.000000  0.172212   \n",
       "count                                 0.172212  1.000000   \n",
       "followIncreaseEstimated              -0.021940  0.190654   \n",
       "receivePointEstimated                 0.043508  0.555058   \n",
       "Target                                0.250978  0.614870   \n",
       "\n",
       "                         followIncreaseEstimated  receivePointEstimated  \\\n",
       "duration                                0.097034               0.314782   \n",
       "closeBy                                -0.021318              -0.022613   \n",
       "maxLiveViewerCount                      0.206399               0.376570   \n",
       "privateLiveStream                            NaN                    NaN   \n",
       "receivedLikeCount                       0.201927               0.298659   \n",
       "streamerType                                 NaN                    NaN   \n",
       "isShow                                       NaN                    NaN   \n",
       "uniqueViewerCount                       0.268935               0.573528   \n",
       "ios                                     0.282193               0.598978   \n",
       "android                                 0.249412               0.490999   \n",
       "durationGTE5sec                         0.277363               0.570936   \n",
       "durationGTE2min                         0.235634               0.484096   \n",
       "durationGTE10min                        0.162771               0.429359   \n",
       "totalViewerDuration                     0.169300               0.455054   \n",
       "avgViewerDuration                      -0.044073               0.089445   \n",
       "avgStreamJoinDuration                  -0.021940               0.043508   \n",
       "count                                   0.190654               0.555058   \n",
       "followIncreaseEstimated                 1.000000               0.155599   \n",
       "receivePointEstimated                   0.155599               1.000000   \n",
       "Target                                  0.109920               0.312812   \n",
       "\n",
       "                           Target  \n",
       "duration                 0.423149  \n",
       "closeBy                 -0.063776  \n",
       "maxLiveViewerCount       0.467470  \n",
       "privateLiveStream             NaN  \n",
       "receivedLikeCount        0.276720  \n",
       "streamerType                  NaN  \n",
       "isShow                        NaN  \n",
       "uniqueViewerCount        0.530659  \n",
       "ios                      0.509665  \n",
       "android                  0.529004  \n",
       "durationGTE5sec          0.531459  \n",
       "durationGTE2min          0.550957  \n",
       "durationGTE10min         0.524528  \n",
       "totalViewerDuration      0.451494  \n",
       "avgViewerDuration        0.371699  \n",
       "avgStreamJoinDuration    0.250978  \n",
       "count                    0.614870  \n",
       "followIncreaseEstimated  0.109920  \n",
       "receivePointEstimated    0.312812  \n",
       "Target                   1.000000  "
      ]
     },
     "execution_count": 29,
     "metadata": {},
     "output_type": "execute_result"
    }
   ],
   "source": [
    "correlations = df.corr(method='pearson')\n",
    "correlations"
   ]
  },
  {
   "cell_type": "code",
   "execution_count": 30,
   "metadata": {},
   "outputs": [
    {
     "data": {
      "text/plain": [
       "<matplotlib.axes._subplots.AxesSubplot at 0x1ea001f1108>"
      ]
     },
     "execution_count": 30,
     "metadata": {},
     "output_type": "execute_result"
    },
    {
     "data": {
      "image/png": "[encoded data removed]",
      "text/plain": [
       "<Figure size 432x288 with 2 Axes>"
      ]
     },
     "metadata": {
      "needs_background": "light"
     },
     "output_type": "display_data"
    }
   ],
   "source": [
    "sns.heatmap(correlations)"
   ]
  },
  {
   "cell_type": "markdown",
   "metadata": {},
   "source": [
    "# Divide data into test and train and feature scaling"
   ]
  },
  {
   "cell_type": "code",
   "execution_count": 31,
   "metadata": {},
   "outputs": [],
   "source": [
    "from sklearn.model_selection import train_test_split"
   ]
  },
  {
   "cell_type": "code",
   "execution_count": 32,
   "metadata": {},
   "outputs": [],
   "source": [
    "X_res = df.loc[:,'duration':'receivePointEstimated']\n",
    "y_res = df.iloc[:,-1].values"
   ]
  },
  {
   "cell_type": "code",
   "execution_count": 33,
   "metadata": {},
   "outputs": [
    {
     "data": {
      "text/html": [
       "<div>\n",
       "<style scoped>\n",
       "    .dataframe tbody tr th:only-of-type {\n",
       "        vertical-align: middle;\n",
       "    }\n",
       "\n",
       "    .dataframe tbody tr th {\n",
       "        vertical-align: top;\n",
       "    }\n",
       "\n",
       "    .dataframe thead th {\n",
       "        text-align: right;\n",
       "    }\n",
       "</style>\n",
       "<table border=\"1\" class=\"dataframe\">\n",
       "  <thead>\n",
       "    <tr style=\"text-align: right;\">\n",
       "      <th></th>\n",
       "      <th>duration</th>\n",
       "      <th>closeBy</th>\n",
       "      <th>maxLiveViewerCount</th>\n",
       "      <th>privateLiveStream</th>\n",
       "      <th>receivedLikeCount</th>\n",
       "      <th>streamerType</th>\n",
       "      <th>isShow</th>\n",
       "      <th>uniqueViewerCount</th>\n",
       "      <th>ios</th>\n",
       "      <th>android</th>\n",
       "      <th>durationGTE5sec</th>\n",
       "      <th>durationGTE2min</th>\n",
       "      <th>durationGTE10min</th>\n",
       "      <th>totalViewerDuration</th>\n",
       "      <th>avgViewerDuration</th>\n",
       "      <th>avgStreamJoinDuration</th>\n",
       "      <th>count</th>\n",
       "      <th>followIncreaseEstimated</th>\n",
       "      <th>receivePointEstimated</th>\n",
       "    </tr>\n",
       "  </thead>\n",
       "  <tbody>\n",
       "    <tr>\n",
       "      <th>0</th>\n",
       "      <td>44362</td>\n",
       "      <td>1</td>\n",
       "      <td>117</td>\n",
       "      <td>0</td>\n",
       "      <td>3447</td>\n",
       "      <td>0</td>\n",
       "      <td>False</td>\n",
       "      <td>1893</td>\n",
       "      <td>845</td>\n",
       "      <td>730</td>\n",
       "      <td>1503</td>\n",
       "      <td>493</td>\n",
       "      <td>302</td>\n",
       "      <td>919042.0</td>\n",
       "      <td>588.38</td>\n",
       "      <td>202.48</td>\n",
       "      <td>4571</td>\n",
       "      <td>-3</td>\n",
       "      <td>71937</td>\n",
       "    </tr>\n",
       "    <tr>\n",
       "      <th>1</th>\n",
       "      <td>18427</td>\n",
       "      <td>1</td>\n",
       "      <td>355</td>\n",
       "      <td>0</td>\n",
       "      <td>22479</td>\n",
       "      <td>0</td>\n",
       "      <td>False</td>\n",
       "      <td>2385</td>\n",
       "      <td>1639</td>\n",
       "      <td>570</td>\n",
       "      <td>2142</td>\n",
       "      <td>477</td>\n",
       "      <td>251</td>\n",
       "      <td>939946.0</td>\n",
       "      <td>426.86</td>\n",
       "      <td>133.97</td>\n",
       "      <td>5342</td>\n",
       "      <td>35</td>\n",
       "      <td>370581</td>\n",
       "    </tr>\n",
       "    <tr>\n",
       "      <th>2</th>\n",
       "      <td>20471</td>\n",
       "      <td>1</td>\n",
       "      <td>74</td>\n",
       "      <td>0</td>\n",
       "      <td>773</td>\n",
       "      <td>0</td>\n",
       "      <td>False</td>\n",
       "      <td>839</td>\n",
       "      <td>581</td>\n",
       "      <td>213</td>\n",
       "      <td>773</td>\n",
       "      <td>300</td>\n",
       "      <td>191</td>\n",
       "      <td>668404.0</td>\n",
       "      <td>846.08</td>\n",
       "      <td>285.40</td>\n",
       "      <td>2767</td>\n",
       "      <td>24</td>\n",
       "      <td>26551</td>\n",
       "    </tr>\n",
       "    <tr>\n",
       "      <th>3</th>\n",
       "      <td>14446</td>\n",
       "      <td>1</td>\n",
       "      <td>493</td>\n",
       "      <td>0</td>\n",
       "      <td>28918</td>\n",
       "      <td>0</td>\n",
       "      <td>False</td>\n",
       "      <td>1460</td>\n",
       "      <td>816</td>\n",
       "      <td>561</td>\n",
       "      <td>1333</td>\n",
       "      <td>363</td>\n",
       "      <td>178</td>\n",
       "      <td>674843.0</td>\n",
       "      <td>491.87</td>\n",
       "      <td>158.08</td>\n",
       "      <td>3301</td>\n",
       "      <td>16</td>\n",
       "      <td>29144</td>\n",
       "    </tr>\n",
       "    <tr>\n",
       "      <th>4</th>\n",
       "      <td>14590</td>\n",
       "      <td>1</td>\n",
       "      <td>70</td>\n",
       "      <td>0</td>\n",
       "      <td>721</td>\n",
       "      <td>0</td>\n",
       "      <td>False</td>\n",
       "      <td>674</td>\n",
       "      <td>451</td>\n",
       "      <td>189</td>\n",
       "      <td>614</td>\n",
       "      <td>254</td>\n",
       "      <td>173</td>\n",
       "      <td>544953.0</td>\n",
       "      <td>856.84</td>\n",
       "      <td>290.33</td>\n",
       "      <td>1446</td>\n",
       "      <td>17</td>\n",
       "      <td>28961</td>\n",
       "    </tr>\n",
       "  </tbody>\n",
       "</table>\n",
       "</div>"
      ],
      "text/plain": [
       "   duration  closeBy  maxLiveViewerCount  privateLiveStream  \\\n",
       "0     44362        1                 117                  0   \n",
       "1     18427        1                 355                  0   \n",
       "2     20471        1                  74                  0   \n",
       "3     14446        1                 493                  0   \n",
       "4     14590        1                  70                  0   \n",
       "\n",
       "   receivedLikeCount  streamerType  isShow  uniqueViewerCount   ios  android  \\\n",
       "0               3447             0   False               1893   845      730   \n",
       "1              22479             0   False               2385  1639      570   \n",
       "2                773             0   False                839   581      213   \n",
       "3              28918             0   False               1460   816      561   \n",
       "4                721             0   False                674   451      189   \n",
       "\n",
       "   durationGTE5sec  durationGTE2min  durationGTE10min  totalViewerDuration  \\\n",
       "0             1503              493               302             919042.0   \n",
       "1             2142              477               251             939946.0   \n",
       "2              773              300               191             668404.0   \n",
       "3             1333              363               178             674843.0   \n",
       "4              614              254               173             544953.0   \n",
       "\n",
       "   avgViewerDuration  avgStreamJoinDuration  count  followIncreaseEstimated  \\\n",
       "0             588.38                 202.48   4571                       -3   \n",
       "1             426.86                 133.97   5342                       35   \n",
       "2             846.08                 285.40   2767                       24   \n",
       "3             491.87                 158.08   3301                       16   \n",
       "4             856.84                 290.33   1446                       17   \n",
       "\n",
       "   receivePointEstimated  \n",
       "0                  71937  \n",
       "1                 370581  \n",
       "2                  26551  \n",
       "3                  29144  \n",
       "4                  28961  "
      ]
     },
     "execution_count": 33,
     "metadata": {},
     "output_type": "execute_result"
    }
   ],
   "source": [
    "X_res.head()"
   ]
  },
  {
   "cell_type": "markdown",
   "metadata": {},
   "source": [
    "# Balance data by random over sampling"
   ]
  },
  {
   "cell_type": "code",
   "execution_count": 34,
   "metadata": {},
   "outputs": [],
   "source": [
    "from imblearn.over_sampling import RandomOverSampler"
   ]
  },
  {
   "cell_type": "code",
   "execution_count": 35,
   "metadata": {},
   "outputs": [],
   "source": [
    "os = RandomOverSampler()\n",
    "X_res,y_res = os.fit_sample(X_res,y_res)"
   ]
  },
  {
   "cell_type": "code",
   "execution_count": 36,
   "metadata": {},
   "outputs": [
    {
     "data": {
      "text/plain": [
       "(5040, 19)"
      ]
     },
     "execution_count": 36,
     "metadata": {},
     "output_type": "execute_result"
    }
   ],
   "source": [
    "X_res.shape"
   ]
  },
  {
   "cell_type": "code",
   "execution_count": 37,
   "metadata": {},
   "outputs": [
    {
     "data": {
      "text/plain": [
       "(5040,)"
      ]
     },
     "execution_count": 37,
     "metadata": {},
     "output_type": "execute_result"
    }
   ],
   "source": [
    "y_res.shape"
   ]
  },
  {
   "cell_type": "code",
   "execution_count": 38,
   "metadata": {},
   "outputs": [],
   "source": [
    "X_train, X_test, y_train, y_test = train_test_split(X_res,y_res, test_size=0.2, random_state=42)"
   ]
  },
  {
   "cell_type": "markdown",
   "metadata": {},
   "source": [
    "# Data Normalization"
   ]
  },
  {
   "cell_type": "code",
   "execution_count": 39,
   "metadata": {},
   "outputs": [],
   "source": [
    "from sklearn.preprocessing import Normalizer"
   ]
  },
  {
   "cell_type": "code",
   "execution_count": 40,
   "metadata": {},
   "outputs": [],
   "source": [
    "scaler = Normalizer().fit(X_train)\n",
    "standarized_x = scaler.transform(X_train)\n",
    "standarized_x_test = scaler.transform(X_test)"
   ]
  },
  {
   "cell_type": "markdown",
   "metadata": {},
   "source": [
    "# Importing Modules"
   ]
  },
  {
   "cell_type": "markdown",
   "metadata": {},
   "source": [
    "# 1. Random Forest"
   ]
  },
  {
   "cell_type": "code",
   "execution_count": 41,
   "metadata": {},
   "outputs": [],
   "source": [
    "from sklearn.ensemble import RandomForestClassifier\n",
    "from sklearn.metrics import accuracy_score,confusion_matrix,classification_report"
   ]
  },
  {
   "cell_type": "code",
   "execution_count": 42,
   "metadata": {},
   "outputs": [],
   "source": [
    "model = RandomForestClassifier(bootstrap=True, ccp_alpha=0.0, class_weight=None,\n",
    "                       criterion='entropy', max_depth=70, max_features='sqrt',\n",
    "                       max_leaf_nodes=None, max_samples=None,\n",
    "                       min_impurity_decrease=0.0, min_impurity_split=None,\n",
    "                       min_samples_leaf=1, min_samples_split=5,\n",
    "                       min_weight_fraction_leaf=0.0, n_estimators=80,\n",
    "                       n_jobs=None, oob_score=False, random_state=2076,\n",
    "                       verbose=0, warm_start=False)"
   ]
  },
  {
   "cell_type": "code",
   "execution_count": 43,
   "metadata": {},
   "outputs": [
    {
     "name": "stdout",
     "output_type": "stream",
     "text": [
      "0.9880952380952381\n",
      "[[494  12]\n",
      " [  0 502]]\n",
      "              precision    recall  f1-score   support\n",
      "\n",
      "           0       1.00      0.98      0.99       506\n",
      "           1       0.98      1.00      0.99       502\n",
      "\n",
      "    accuracy                           0.99      1008\n",
      "   macro avg       0.99      0.99      0.99      1008\n",
      "weighted avg       0.99      0.99      0.99      1008\n",
      "\n"
     ]
    }
   ],
   "source": [
    "model.fit(standarized_x,y_train)\n",
    "y_pred = model.predict(standarized_x_test)\n",
    "print(accuracy_score(y_test,y_pred))\n",
    "print(confusion_matrix(y_test,y_pred))\n",
    "print(classification_report(y_test,y_pred))"
   ]
  },
  {
   "cell_type": "markdown",
   "metadata": {},
   "source": [
    "# Stratified cross validation of Random forest"
   ]
  },
  {
   "cell_type": "code",
   "execution_count": 44,
   "metadata": {},
   "outputs": [],
   "source": [
    "from sklearn.model_selection import cross_val_score\n",
    "score = cross_val_score(model,X_res,y_res,cv=10)"
   ]
  },
  {
   "cell_type": "code",
   "execution_count": 45,
   "metadata": {},
   "outputs": [
    {
     "data": {
      "text/plain": [
       "0.9825396825396826"
      ]
     },
     "execution_count": 45,
     "metadata": {},
     "output_type": "execute_result"
    }
   ],
   "source": [
    "score.mean()"
   ]
  },
  {
   "cell_type": "markdown",
   "metadata": {},
   "source": [
    "# 99 % accuracy with Random Forest! Let's see with GaussianNB gives us better accuracy"
   ]
  },
  {
   "cell_type": "markdown",
   "metadata": {},
   "source": [
    "# 2. GaussianNB"
   ]
  },
  {
   "cell_type": "code",
   "execution_count": 46,
   "metadata": {},
   "outputs": [],
   "source": [
    "from sklearn.naive_bayes import GaussianNB\n",
    "from sklearn.metrics import accuracy_score,confusion_matrix,classification_report"
   ]
  },
  {
   "cell_type": "code",
   "execution_count": 47,
   "metadata": {},
   "outputs": [],
   "source": [
    "model = GaussianNB()"
   ]
  },
  {
   "cell_type": "code",
   "execution_count": 48,
   "metadata": {},
   "outputs": [
    {
     "name": "stdout",
     "output_type": "stream",
     "text": [
      "0.9265873015873016\n",
      "[[449  57]\n",
      " [ 17 485]]\n",
      "              precision    recall  f1-score   support\n",
      "\n",
      "           0       0.96      0.89      0.92       506\n",
      "           1       0.89      0.97      0.93       502\n",
      "\n",
      "    accuracy                           0.93      1008\n",
      "   macro avg       0.93      0.93      0.93      1008\n",
      "weighted avg       0.93      0.93      0.93      1008\n",
      "\n"
     ]
    }
   ],
   "source": [
    "model.fit(standarized_x,y_train)\n",
    "y_pred = model.predict(standarized_x_test)\n",
    "print(accuracy_score(y_test,y_pred))\n",
    "print(confusion_matrix(y_test,y_pred))\n",
    "print(classification_report(y_test,y_pred))"
   ]
  },
  {
   "cell_type": "markdown",
   "metadata": {},
   "source": [
    "# 93 % accuracy with GaussianNB! Let's see with other model gives us better accuracy"
   ]
  },
  {
   "cell_type": "markdown",
   "metadata": {},
   "source": [
    "# 3. Support Vector Machine"
   ]
  },
  {
   "cell_type": "code",
   "execution_count": 49,
   "metadata": {},
   "outputs": [],
   "source": [
    "from sklearn.svm import SVC\n",
    "from sklearn.metrics import accuracy_score,confusion_matrix,classification_report"
   ]
  },
  {
   "cell_type": "code",
   "execution_count": 50,
   "metadata": {},
   "outputs": [],
   "source": [
    "model = SVC()"
   ]
  },
  {
   "cell_type": "code",
   "execution_count": 51,
   "metadata": {},
   "outputs": [
    {
     "name": "stdout",
     "output_type": "stream",
     "text": [
      "0.9067460317460317\n",
      "[[446  60]\n",
      " [ 34 468]]\n",
      "              precision    recall  f1-score   support\n",
      "\n",
      "           0       0.93      0.88      0.90       506\n",
      "           1       0.89      0.93      0.91       502\n",
      "\n",
      "    accuracy                           0.91      1008\n",
      "   macro avg       0.91      0.91      0.91      1008\n",
      "weighted avg       0.91      0.91      0.91      1008\n",
      "\n"
     ]
    }
   ],
   "source": [
    "model.fit(standarized_x,y_train)\n",
    "y_pred = model.predict(standarized_x_test)\n",
    "print(accuracy_score(y_test,y_pred))\n",
    "print(confusion_matrix(y_test,y_pred))\n",
    "print(classification_report(y_test,y_pred))"
   ]
  },
  {
   "cell_type": "markdown",
   "metadata": {},
   "source": [
    "# 91 % accuracy with Support Vector Machine! Let's see with other model gives us better accuracy"
   ]
  },
  {
   "cell_type": "code",
   "execution_count": 52,
   "metadata": {},
   "outputs": [],
   "source": [
    "from sklearn import neighbors\n",
    "from sklearn.metrics import accuracy_score,confusion_matrix,classification_report"
   ]
  },
  {
   "cell_type": "markdown",
   "metadata": {},
   "source": [
    "# 4. KNeighborsClassifier"
   ]
  },
  {
   "cell_type": "code",
   "execution_count": 53,
   "metadata": {},
   "outputs": [],
   "source": [
    "model = neighbors.KNeighborsClassifier(3)"
   ]
  },
  {
   "cell_type": "code",
   "execution_count": 54,
   "metadata": {},
   "outputs": [
    {
     "name": "stdout",
     "output_type": "stream",
     "text": [
      "0.9543650793650794\n",
      "[[464  42]\n",
      " [  4 498]]\n",
      "              precision    recall  f1-score   support\n",
      "\n",
      "           0       0.99      0.92      0.95       506\n",
      "           1       0.92      0.99      0.96       502\n",
      "\n",
      "    accuracy                           0.95      1008\n",
      "   macro avg       0.96      0.95      0.95      1008\n",
      "weighted avg       0.96      0.95      0.95      1008\n",
      "\n"
     ]
    }
   ],
   "source": [
    "model.fit(standarized_x,y_train)\n",
    "y_pred = model.predict(standarized_x_test)\n",
    "print(accuracy_score(y_test,y_pred))\n",
    "print(confusion_matrix(y_test,y_pred))\n",
    "print(classification_report(y_test,y_pred))"
   ]
  },
  {
   "cell_type": "markdown",
   "metadata": {},
   "source": [
    "# 95 % accuracy with KNeighborsClassifier! Let's see with other model gives us better accuracy"
   ]
  },
  {
   "cell_type": "markdown",
   "metadata": {},
   "source": [
    "# 5. Logistic Regression"
   ]
  },
  {
   "cell_type": "code",
   "execution_count": 55,
   "metadata": {},
   "outputs": [],
   "source": [
    "from sklearn.linear_model import LogisticRegression"
   ]
  },
  {
   "cell_type": "code",
   "execution_count": 56,
   "metadata": {},
   "outputs": [],
   "source": [
    "model = LogisticRegression()"
   ]
  },
  {
   "cell_type": "code",
   "execution_count": 57,
   "metadata": {},
   "outputs": [
    {
     "name": "stdout",
     "output_type": "stream",
     "text": [
      "0.8660714285714286\n",
      "[[453  53]\n",
      " [ 82 420]]\n",
      "              precision    recall  f1-score   support\n",
      "\n",
      "           0       0.85      0.90      0.87       506\n",
      "           1       0.89      0.84      0.86       502\n",
      "\n",
      "    accuracy                           0.87      1008\n",
      "   macro avg       0.87      0.87      0.87      1008\n",
      "weighted avg       0.87      0.87      0.87      1008\n",
      "\n"
     ]
    }
   ],
   "source": [
    "model.fit(standarized_x,y_train)\n",
    "y_pred = model.predict(standarized_x_test)\n",
    "print(accuracy_score(y_test,y_pred))\n",
    "print(confusion_matrix(y_test,y_pred))\n",
    "print(classification_report(y_test,y_pred))"
   ]
  },
  {
   "cell_type": "markdown",
   "metadata": {},
   "source": [
    "# 87 % accuracy with Logistic Regression! Let's see with other model gives us better accuracy"
   ]
  },
  {
   "cell_type": "markdown",
   "metadata": {},
   "source": [
    "# Hence among all the models Random Forest (99 %) is the best model"
   ]
  },
  {
   "cell_type": "code",
   "execution_count": null,
   "metadata": {},
   "outputs": [],
   "source": []
  }
 ],
 "metadata": {
  "kernelspec": {
   "display_name": "Python 3",
   "language": "python",
   "name": "python3"
  },
  "language_info": {
   "codemirror_mode": {
    "name": "ipython",
    "version": 3
   },
   "file_extension": ".py",
   "mimetype": "text/x-python",
   "name": "python",
   "nbconvert_exporter": "python",
   "pygments_lexer": "ipython3",
   "version": "3.7.4"
  }
 },
 "nbformat": 4,
 "nbformat_minor": 2
}
