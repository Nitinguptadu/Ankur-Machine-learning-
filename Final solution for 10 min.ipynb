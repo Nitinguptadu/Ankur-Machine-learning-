{
 "cells": [
  {
   "cell_type": "code",
   "execution_count": 1,
   "metadata": {},
   "outputs": [],
   "source": [
    "import pandas as pd\n",
    "import numpy as np"
   ]
  },
  {
   "cell_type": "code",
   "execution_count": 2,
   "metadata": {},
   "outputs": [],
   "source": [
    "df = pd.read_excel(\"all_stream_info_10min.xlsx\")"
   ]
  },
  {
   "cell_type": "code",
   "execution_count": 3,
   "metadata": {},
   "outputs": [
    {
     "data": {
      "text/html": [
       "<div>\n",
       "<style scoped>\n",
       "    .dataframe tbody tr th:only-of-type {\n",
       "        vertical-align: middle;\n",
       "    }\n",
       "\n",
       "    .dataframe tbody tr th {\n",
       "        vertical-align: top;\n",
       "    }\n",
       "\n",
       "    .dataframe thead th {\n",
       "        text-align: right;\n",
       "    }\n",
       "</style>\n",
       "<table border=\"1\" class=\"dataframe\">\n",
       "  <thead>\n",
       "    <tr style=\"text-align: right;\">\n",
       "      <th></th>\n",
       "      <th>liveStreamID</th>\n",
       "      <th>beginTime</th>\n",
       "      <th>endTime</th>\n",
       "      <th>duration</th>\n",
       "      <th>closeBy</th>\n",
       "      <th>maxLiveViewerCount</th>\n",
       "      <th>maxLiveViewerTime</th>\n",
       "      <th>privateLiveStream</th>\n",
       "      <th>receivedLikeCount</th>\n",
       "      <th>streamerType</th>\n",
       "      <th>...</th>\n",
       "      <th>durationGTE5sec</th>\n",
       "      <th>durationGTE2min</th>\n",
       "      <th>durationGTE10min</th>\n",
       "      <th>totalViewerDuration</th>\n",
       "      <th>avgViewerDuration</th>\n",
       "      <th>avgStreamJoinDuration</th>\n",
       "      <th>count</th>\n",
       "      <th>followIncreaseEstimated</th>\n",
       "      <th>receivePointEstimated</th>\n",
       "      <th>Target</th>\n",
       "    </tr>\n",
       "  </thead>\n",
       "  <tbody>\n",
       "    <tr>\n",
       "      <th>0</th>\n",
       "      <td>109414598</td>\n",
       "      <td>2020-06-20 18:47:14 UTC</td>\n",
       "      <td>2020-06-21 07:06:36 UTC</td>\n",
       "      <td>44362</td>\n",
       "      <td>normalEnd</td>\n",
       "      <td>117</td>\n",
       "      <td>2020-06-20 21:48:29.745 UTC</td>\n",
       "      <td>0</td>\n",
       "      <td>3447</td>\n",
       "      <td>0</td>\n",
       "      <td>...</td>\n",
       "      <td>1503</td>\n",
       "      <td>493</td>\n",
       "      <td>302</td>\n",
       "      <td>919042.0</td>\n",
       "      <td>588.38</td>\n",
       "      <td>202.48</td>\n",
       "      <td>4571</td>\n",
       "      <td>-3</td>\n",
       "      <td>71937</td>\n",
       "      <td>1</td>\n",
       "    </tr>\n",
       "    <tr>\n",
       "      <th>1</th>\n",
       "      <td>109389398</td>\n",
       "      <td>2020-06-19 09:03:21 UTC</td>\n",
       "      <td>2020-06-19 14:10:28 UTC</td>\n",
       "      <td>18427</td>\n",
       "      <td>normalEnd</td>\n",
       "      <td>355</td>\n",
       "      <td>2020-06-19 10:25:37.51 UTC</td>\n",
       "      <td>0</td>\n",
       "      <td>22479</td>\n",
       "      <td>0</td>\n",
       "      <td>...</td>\n",
       "      <td>2142</td>\n",
       "      <td>477</td>\n",
       "      <td>251</td>\n",
       "      <td>939946.0</td>\n",
       "      <td>426.86</td>\n",
       "      <td>133.97</td>\n",
       "      <td>5342</td>\n",
       "      <td>35</td>\n",
       "      <td>370581</td>\n",
       "      <td>1</td>\n",
       "    </tr>\n",
       "    <tr>\n",
       "      <th>2</th>\n",
       "      <td>109336156</td>\n",
       "      <td>2020-06-15 22:41:45 UTC</td>\n",
       "      <td>2020-06-16 04:22:56 UTC</td>\n",
       "      <td>20471</td>\n",
       "      <td>normalEnd</td>\n",
       "      <td>74</td>\n",
       "      <td>2020-06-15 23:13:27.554 UTC</td>\n",
       "      <td>0</td>\n",
       "      <td>773</td>\n",
       "      <td>0</td>\n",
       "      <td>...</td>\n",
       "      <td>773</td>\n",
       "      <td>300</td>\n",
       "      <td>191</td>\n",
       "      <td>668404.0</td>\n",
       "      <td>846.08</td>\n",
       "      <td>285.40</td>\n",
       "      <td>2767</td>\n",
       "      <td>24</td>\n",
       "      <td>26551</td>\n",
       "      <td>1</td>\n",
       "    </tr>\n",
       "    <tr>\n",
       "      <th>3</th>\n",
       "      <td>109400631</td>\n",
       "      <td>2020-06-20 01:10:14 UTC</td>\n",
       "      <td>2020-06-20 05:11:00 UTC</td>\n",
       "      <td>14446</td>\n",
       "      <td>normalEnd</td>\n",
       "      <td>493</td>\n",
       "      <td>2020-06-20 02:27:30.522 UTC</td>\n",
       "      <td>0</td>\n",
       "      <td>28918</td>\n",
       "      <td>0</td>\n",
       "      <td>...</td>\n",
       "      <td>1333</td>\n",
       "      <td>363</td>\n",
       "      <td>178</td>\n",
       "      <td>674843.0</td>\n",
       "      <td>491.87</td>\n",
       "      <td>158.08</td>\n",
       "      <td>3301</td>\n",
       "      <td>16</td>\n",
       "      <td>29144</td>\n",
       "      <td>1</td>\n",
       "    </tr>\n",
       "    <tr>\n",
       "      <th>4</th>\n",
       "      <td>109368378</td>\n",
       "      <td>2020-06-17 21:04:08 UTC</td>\n",
       "      <td>2020-06-18 01:07:18 UTC</td>\n",
       "      <td>14590</td>\n",
       "      <td>normalEnd</td>\n",
       "      <td>70</td>\n",
       "      <td>2020-06-17 22:28:06.574 UTC</td>\n",
       "      <td>0</td>\n",
       "      <td>721</td>\n",
       "      <td>0</td>\n",
       "      <td>...</td>\n",
       "      <td>614</td>\n",
       "      <td>254</td>\n",
       "      <td>173</td>\n",
       "      <td>544953.0</td>\n",
       "      <td>856.84</td>\n",
       "      <td>290.33</td>\n",
       "      <td>1446</td>\n",
       "      <td>17</td>\n",
       "      <td>28961</td>\n",
       "      <td>1</td>\n",
       "    </tr>\n",
       "  </tbody>\n",
       "</table>\n",
       "<p>5 rows × 29 columns</p>\n",
       "</div>"
      ],
      "text/plain": [
       "   liveStreamID                beginTime                  endTime  duration  \\\n",
       "0     109414598  2020-06-20 18:47:14 UTC  2020-06-21 07:06:36 UTC     44362   \n",
       "1     109389398  2020-06-19 09:03:21 UTC  2020-06-19 14:10:28 UTC     18427   \n",
       "2     109336156  2020-06-15 22:41:45 UTC  2020-06-16 04:22:56 UTC     20471   \n",
       "3     109400631  2020-06-20 01:10:14 UTC  2020-06-20 05:11:00 UTC     14446   \n",
       "4     109368378  2020-06-17 21:04:08 UTC  2020-06-18 01:07:18 UTC     14590   \n",
       "\n",
       "     closeBy  maxLiveViewerCount            maxLiveViewerTime  \\\n",
       "0  normalEnd                 117  2020-06-20 21:48:29.745 UTC   \n",
       "1  normalEnd                 355   2020-06-19 10:25:37.51 UTC   \n",
       "2  normalEnd                  74  2020-06-15 23:13:27.554 UTC   \n",
       "3  normalEnd                 493  2020-06-20 02:27:30.522 UTC   \n",
       "4  normalEnd                  70  2020-06-17 22:28:06.574 UTC   \n",
       "\n",
       "   privateLiveStream  receivedLikeCount  streamerType  ...  durationGTE5sec  \\\n",
       "0                  0               3447             0  ...             1503   \n",
       "1                  0              22479             0  ...             2142   \n",
       "2                  0                773             0  ...              773   \n",
       "3                  0              28918             0  ...             1333   \n",
       "4                  0                721             0  ...              614   \n",
       "\n",
       "   durationGTE2min durationGTE10min totalViewerDuration avgViewerDuration  \\\n",
       "0              493              302            919042.0            588.38   \n",
       "1              477              251            939946.0            426.86   \n",
       "2              300              191            668404.0            846.08   \n",
       "3              363              178            674843.0            491.87   \n",
       "4              254              173            544953.0            856.84   \n",
       "\n",
       "   avgStreamJoinDuration  count  followIncreaseEstimated  \\\n",
       "0                 202.48   4571                       -3   \n",
       "1                 133.97   5342                       35   \n",
       "2                 285.40   2767                       24   \n",
       "3                 158.08   3301                       16   \n",
       "4                 290.33   1446                       17   \n",
       "\n",
       "   receivePointEstimated  Target  \n",
       "0                  71937       1  \n",
       "1                 370581       1  \n",
       "2                  26551       1  \n",
       "3                  29144       1  \n",
       "4                  28961       1  \n",
       "\n",
       "[5 rows x 29 columns]"
      ]
     },
     "execution_count": 3,
     "metadata": {},
     "output_type": "execute_result"
    }
   ],
   "source": [
    "df.head()"
   ]
  },
  {
   "cell_type": "code",
   "execution_count": 4,
   "metadata": {},
   "outputs": [
    {
     "name": "stdout",
     "output_type": "stream",
     "text": [
      "<class 'pandas.core.frame.DataFrame'>\n",
      "RangeIndex: 3148 entries, 0 to 3147\n",
      "Data columns (total 29 columns):\n",
      "liveStreamID               3148 non-null int64\n",
      "beginTime                  3148 non-null object\n",
      "endTime                    3148 non-null object\n",
      "duration                   3148 non-null int64\n",
      "closeBy                    3051 non-null object\n",
      "maxLiveViewerCount         3148 non-null int64\n",
      "maxLiveViewerTime          1838 non-null object\n",
      "privateLiveStream          3148 non-null int64\n",
      "receivedLikeCount          3148 non-null int64\n",
      "streamerType               3148 non-null int64\n",
      "isShow                     3148 non-null bool\n",
      "cultureGroup               0 non-null float64\n",
      "userID                     3148 non-null object\n",
      "registerTime               3148 non-null object\n",
      "registerCountry            3148 non-null object\n",
      "isContracted               0 non-null float64\n",
      "uniqueViewerCount          3148 non-null int64\n",
      "ios                        3148 non-null int64\n",
      "android                    3148 non-null int64\n",
      "durationGTE5sec            3148 non-null int64\n",
      "durationGTE2min            3148 non-null int64\n",
      "durationGTE10min           3148 non-null int64\n",
      "totalViewerDuration        1689 non-null float64\n",
      "avgViewerDuration          1689 non-null float64\n",
      "avgStreamJoinDuration      1689 non-null float64\n",
      "count                      3148 non-null int64\n",
      "followIncreaseEstimated    3148 non-null int64\n",
      "receivePointEstimated      3148 non-null int64\n",
      "Target                     3148 non-null int64\n",
      "dtypes: bool(1), float64(5), int64(16), object(7)\n",
      "memory usage: 691.8+ KB\n"
     ]
    }
   ],
   "source": [
    "df.info()"
   ]
  },
  {
   "cell_type": "code",
   "execution_count": 5,
   "metadata": {},
   "outputs": [
    {
     "data": {
      "text/plain": [
       "normalEnd            2673\n",
       "end by new stream     129\n",
       "disconnect            127\n",
       "Incoming call          65\n",
       "Killed                 21\n",
       "Freezed                16\n",
       "Upload failed          13\n",
       "Crash                   4\n",
       "Publish failed          2\n",
       "Keep alive failed       1\n",
       "Name: closeBy, dtype: int64"
      ]
     },
     "execution_count": 5,
     "metadata": {},
     "output_type": "execute_result"
    }
   ],
   "source": [
    "df.closeBy.value_counts()"
   ]
  },
  {
   "cell_type": "code",
   "execution_count": 6,
   "metadata": {},
   "outputs": [],
   "source": [
    "df.drop([\"liveStreamID\",\"beginTime\",\"endTime\",\"maxLiveViewerTime\",\"registerCountry\",\"cultureGroup\",\"isContracted\",\"registerTime\",\"userID\"],axis=1,inplace=True)"
   ]
  },
  {
   "cell_type": "code",
   "execution_count": 7,
   "metadata": {},
   "outputs": [],
   "source": [
    "categories = []\n",
    "for filename in df[\"closeBy\"]:\n",
    "    if filename == 'normalEnd':\n",
    "        categories.append(1)\n",
    "    elif filename == 'end by new stream':\n",
    "         categories.append(2)\n",
    "    elif filename == 'disconnect':\n",
    "         categories.append(3)\n",
    "    elif filename == 'Incoming call':\n",
    "         categories.append(4)\n",
    "    elif filename == 'Killed':\n",
    "         categories.append(5)\n",
    "    elif filename == 'Freezed':\n",
    "         categories.append(6)\n",
    "    elif filename == 'Upload failed':\n",
    "         categories.append(7)\n",
    "    elif filename == 'Crash':\n",
    "         categories.append(8)\n",
    "    elif filename == 'Publish failed':\n",
    "         categories.append(9)\n",
    "    elif filename == 'Keep alive failed':\n",
    "         categories.append(10)\n",
    "            \n",
    "    else:\n",
    "        categories.append(0)\n",
    "        \n",
    "\n",
    "df[\"closeBy\"] = categories"
   ]
  },
  {
   "cell_type": "code",
   "execution_count": 8,
   "metadata": {},
   "outputs": [
    {
     "data": {
      "text/plain": [
       "1     2673\n",
       "2      129\n",
       "3      127\n",
       "0       97\n",
       "4       65\n",
       "5       21\n",
       "6       16\n",
       "7       13\n",
       "8        4\n",
       "9        2\n",
       "10       1\n",
       "Name: closeBy, dtype: int64"
      ]
     },
     "execution_count": 8,
     "metadata": {},
     "output_type": "execute_result"
    }
   ],
   "source": [
    "df.closeBy.value_counts()"
   ]
  },
  {
   "cell_type": "code",
   "execution_count": 9,
   "metadata": {},
   "outputs": [
    {
     "data": {
      "application/javascript": [
       "\n",
       "        if (window._pyforest_update_imports_cell) { window._pyforest_update_imports_cell('import seaborn as sns'); }\n",
       "    "
      ],
      "text/plain": [
       "<IPython.core.display.Javascript object>"
      ]
     },
     "metadata": {},
     "output_type": "display_data"
    },
    {
     "data": {
      "text/plain": [
       "<matplotlib.axes._subplots.AxesSubplot at 0x7f8cdc6842d0>"
      ]
     },
     "execution_count": 9,
     "metadata": {},
     "output_type": "execute_result"
    }
   ],
   "source": [
    "sns.countplot(x='Target',data=df)"
   ]
  },
  {
   "cell_type": "code",
   "execution_count": 10,
   "metadata": {},
   "outputs": [
    {
     "data": {
      "text/html": [
       "<div>\n",
       "<style scoped>\n",
       "    .dataframe tbody tr th:only-of-type {\n",
       "        vertical-align: middle;\n",
       "    }\n",
       "\n",
       "    .dataframe tbody tr th {\n",
       "        vertical-align: top;\n",
       "    }\n",
       "\n",
       "    .dataframe thead th {\n",
       "        text-align: right;\n",
       "    }\n",
       "</style>\n",
       "<table border=\"1\" class=\"dataframe\">\n",
       "  <thead>\n",
       "    <tr style=\"text-align: right;\">\n",
       "      <th></th>\n",
       "      <th>duration</th>\n",
       "      <th>closeBy</th>\n",
       "      <th>maxLiveViewerCount</th>\n",
       "      <th>privateLiveStream</th>\n",
       "      <th>receivedLikeCount</th>\n",
       "      <th>streamerType</th>\n",
       "      <th>isShow</th>\n",
       "      <th>uniqueViewerCount</th>\n",
       "      <th>ios</th>\n",
       "      <th>android</th>\n",
       "      <th>durationGTE5sec</th>\n",
       "      <th>durationGTE2min</th>\n",
       "      <th>durationGTE10min</th>\n",
       "      <th>totalViewerDuration</th>\n",
       "      <th>avgViewerDuration</th>\n",
       "      <th>avgStreamJoinDuration</th>\n",
       "      <th>count</th>\n",
       "      <th>followIncreaseEstimated</th>\n",
       "      <th>receivePointEstimated</th>\n",
       "      <th>Target</th>\n",
       "    </tr>\n",
       "  </thead>\n",
       "  <tbody>\n",
       "    <tr>\n",
       "      <th>0</th>\n",
       "      <td>44362</td>\n",
       "      <td>1</td>\n",
       "      <td>117</td>\n",
       "      <td>0</td>\n",
       "      <td>3447</td>\n",
       "      <td>0</td>\n",
       "      <td>False</td>\n",
       "      <td>1893</td>\n",
       "      <td>845</td>\n",
       "      <td>730</td>\n",
       "      <td>1503</td>\n",
       "      <td>493</td>\n",
       "      <td>302</td>\n",
       "      <td>919042.0</td>\n",
       "      <td>588.38</td>\n",
       "      <td>202.48</td>\n",
       "      <td>4571</td>\n",
       "      <td>-3</td>\n",
       "      <td>71937</td>\n",
       "      <td>1</td>\n",
       "    </tr>\n",
       "    <tr>\n",
       "      <th>1</th>\n",
       "      <td>18427</td>\n",
       "      <td>1</td>\n",
       "      <td>355</td>\n",
       "      <td>0</td>\n",
       "      <td>22479</td>\n",
       "      <td>0</td>\n",
       "      <td>False</td>\n",
       "      <td>2385</td>\n",
       "      <td>1639</td>\n",
       "      <td>570</td>\n",
       "      <td>2142</td>\n",
       "      <td>477</td>\n",
       "      <td>251</td>\n",
       "      <td>939946.0</td>\n",
       "      <td>426.86</td>\n",
       "      <td>133.97</td>\n",
       "      <td>5342</td>\n",
       "      <td>35</td>\n",
       "      <td>370581</td>\n",
       "      <td>1</td>\n",
       "    </tr>\n",
       "    <tr>\n",
       "      <th>2</th>\n",
       "      <td>20471</td>\n",
       "      <td>1</td>\n",
       "      <td>74</td>\n",
       "      <td>0</td>\n",
       "      <td>773</td>\n",
       "      <td>0</td>\n",
       "      <td>False</td>\n",
       "      <td>839</td>\n",
       "      <td>581</td>\n",
       "      <td>213</td>\n",
       "      <td>773</td>\n",
       "      <td>300</td>\n",
       "      <td>191</td>\n",
       "      <td>668404.0</td>\n",
       "      <td>846.08</td>\n",
       "      <td>285.40</td>\n",
       "      <td>2767</td>\n",
       "      <td>24</td>\n",
       "      <td>26551</td>\n",
       "      <td>1</td>\n",
       "    </tr>\n",
       "    <tr>\n",
       "      <th>3</th>\n",
       "      <td>14446</td>\n",
       "      <td>1</td>\n",
       "      <td>493</td>\n",
       "      <td>0</td>\n",
       "      <td>28918</td>\n",
       "      <td>0</td>\n",
       "      <td>False</td>\n",
       "      <td>1460</td>\n",
       "      <td>816</td>\n",
       "      <td>561</td>\n",
       "      <td>1333</td>\n",
       "      <td>363</td>\n",
       "      <td>178</td>\n",
       "      <td>674843.0</td>\n",
       "      <td>491.87</td>\n",
       "      <td>158.08</td>\n",
       "      <td>3301</td>\n",
       "      <td>16</td>\n",
       "      <td>29144</td>\n",
       "      <td>1</td>\n",
       "    </tr>\n",
       "    <tr>\n",
       "      <th>4</th>\n",
       "      <td>14590</td>\n",
       "      <td>1</td>\n",
       "      <td>70</td>\n",
       "      <td>0</td>\n",
       "      <td>721</td>\n",
       "      <td>0</td>\n",
       "      <td>False</td>\n",
       "      <td>674</td>\n",
       "      <td>451</td>\n",
       "      <td>189</td>\n",
       "      <td>614</td>\n",
       "      <td>254</td>\n",
       "      <td>173</td>\n",
       "      <td>544953.0</td>\n",
       "      <td>856.84</td>\n",
       "      <td>290.33</td>\n",
       "      <td>1446</td>\n",
       "      <td>17</td>\n",
       "      <td>28961</td>\n",
       "      <td>1</td>\n",
       "    </tr>\n",
       "  </tbody>\n",
       "</table>\n",
       "</div>"
      ],
      "text/plain": [
       "   duration  closeBy  maxLiveViewerCount  privateLiveStream  \\\n",
       "0     44362        1                 117                  0   \n",
       "1     18427        1                 355                  0   \n",
       "2     20471        1                  74                  0   \n",
       "3     14446        1                 493                  0   \n",
       "4     14590        1                  70                  0   \n",
       "\n",
       "   receivedLikeCount  streamerType  isShow  uniqueViewerCount   ios  android  \\\n",
       "0               3447             0   False               1893   845      730   \n",
       "1              22479             0   False               2385  1639      570   \n",
       "2                773             0   False                839   581      213   \n",
       "3              28918             0   False               1460   816      561   \n",
       "4                721             0   False                674   451      189   \n",
       "\n",
       "   durationGTE5sec  durationGTE2min  durationGTE10min  totalViewerDuration  \\\n",
       "0             1503              493               302             919042.0   \n",
       "1             2142              477               251             939946.0   \n",
       "2              773              300               191             668404.0   \n",
       "3             1333              363               178             674843.0   \n",
       "4              614              254               173             544953.0   \n",
       "\n",
       "   avgViewerDuration  avgStreamJoinDuration  count  followIncreaseEstimated  \\\n",
       "0             588.38                 202.48   4571                       -3   \n",
       "1             426.86                 133.97   5342                       35   \n",
       "2             846.08                 285.40   2767                       24   \n",
       "3             491.87                 158.08   3301                       16   \n",
       "4             856.84                 290.33   1446                       17   \n",
       "\n",
       "   receivePointEstimated  Target  \n",
       "0                  71937       1  \n",
       "1                 370581       1  \n",
       "2                  26551       1  \n",
       "3                  29144       1  \n",
       "4                  28961       1  "
      ]
     },
     "execution_count": 10,
     "metadata": {},
     "output_type": "execute_result"
    }
   ],
   "source": [
    "df.head()"
   ]
  },
  {
   "cell_type": "code",
   "execution_count": 11,
   "metadata": {},
   "outputs": [
    {
     "data": {
      "text/plain": [
       "Index(['duration', 'closeBy', 'maxLiveViewerCount', 'privateLiveStream',\n",
       "       'receivedLikeCount', 'streamerType', 'isShow', 'uniqueViewerCount',\n",
       "       'ios', 'android', 'durationGTE5sec', 'durationGTE2min',\n",
       "       'durationGTE10min', 'totalViewerDuration', 'avgViewerDuration',\n",
       "       'avgStreamJoinDuration', 'count', 'followIncreaseEstimated',\n",
       "       'receivePointEstimated', 'Target'],\n",
       "      dtype='object')"
      ]
     },
     "execution_count": 11,
     "metadata": {},
     "output_type": "execute_result"
    }
   ],
   "source": [
    "df.columns"
   ]
  },
  {
   "cell_type": "code",
   "execution_count": 12,
   "metadata": {},
   "outputs": [
    {
     "data": {
      "text/html": [
       "<div>\n",
       "<style scoped>\n",
       "    .dataframe tbody tr th:only-of-type {\n",
       "        vertical-align: middle;\n",
       "    }\n",
       "\n",
       "    .dataframe tbody tr th {\n",
       "        vertical-align: top;\n",
       "    }\n",
       "\n",
       "    .dataframe thead th {\n",
       "        text-align: right;\n",
       "    }\n",
       "</style>\n",
       "<table border=\"1\" class=\"dataframe\">\n",
       "  <thead>\n",
       "    <tr style=\"text-align: right;\">\n",
       "      <th></th>\n",
       "      <th>duration</th>\n",
       "      <th>closeBy</th>\n",
       "      <th>maxLiveViewerCount</th>\n",
       "      <th>privateLiveStream</th>\n",
       "      <th>receivedLikeCount</th>\n",
       "      <th>streamerType</th>\n",
       "      <th>isShow</th>\n",
       "      <th>uniqueViewerCount</th>\n",
       "      <th>ios</th>\n",
       "      <th>android</th>\n",
       "      <th>durationGTE5sec</th>\n",
       "      <th>durationGTE2min</th>\n",
       "      <th>durationGTE10min</th>\n",
       "      <th>totalViewerDuration</th>\n",
       "      <th>avgViewerDuration</th>\n",
       "      <th>avgStreamJoinDuration</th>\n",
       "      <th>count</th>\n",
       "      <th>followIncreaseEstimated</th>\n",
       "      <th>receivePointEstimated</th>\n",
       "      <th>Target</th>\n",
       "    </tr>\n",
       "  </thead>\n",
       "  <tbody>\n",
       "    <tr>\n",
       "      <th>0</th>\n",
       "      <td>44362</td>\n",
       "      <td>1</td>\n",
       "      <td>117</td>\n",
       "      <td>0</td>\n",
       "      <td>3447</td>\n",
       "      <td>0</td>\n",
       "      <td>False</td>\n",
       "      <td>1893</td>\n",
       "      <td>845</td>\n",
       "      <td>730</td>\n",
       "      <td>1503</td>\n",
       "      <td>493</td>\n",
       "      <td>302</td>\n",
       "      <td>919042.0</td>\n",
       "      <td>588.38</td>\n",
       "      <td>202.48</td>\n",
       "      <td>4571</td>\n",
       "      <td>-3</td>\n",
       "      <td>71937</td>\n",
       "      <td>1</td>\n",
       "    </tr>\n",
       "    <tr>\n",
       "      <th>1</th>\n",
       "      <td>18427</td>\n",
       "      <td>1</td>\n",
       "      <td>355</td>\n",
       "      <td>0</td>\n",
       "      <td>22479</td>\n",
       "      <td>0</td>\n",
       "      <td>False</td>\n",
       "      <td>2385</td>\n",
       "      <td>1639</td>\n",
       "      <td>570</td>\n",
       "      <td>2142</td>\n",
       "      <td>477</td>\n",
       "      <td>251</td>\n",
       "      <td>939946.0</td>\n",
       "      <td>426.86</td>\n",
       "      <td>133.97</td>\n",
       "      <td>5342</td>\n",
       "      <td>35</td>\n",
       "      <td>370581</td>\n",
       "      <td>1</td>\n",
       "    </tr>\n",
       "    <tr>\n",
       "      <th>2</th>\n",
       "      <td>20471</td>\n",
       "      <td>1</td>\n",
       "      <td>74</td>\n",
       "      <td>0</td>\n",
       "      <td>773</td>\n",
       "      <td>0</td>\n",
       "      <td>False</td>\n",
       "      <td>839</td>\n",
       "      <td>581</td>\n",
       "      <td>213</td>\n",
       "      <td>773</td>\n",
       "      <td>300</td>\n",
       "      <td>191</td>\n",
       "      <td>668404.0</td>\n",
       "      <td>846.08</td>\n",
       "      <td>285.40</td>\n",
       "      <td>2767</td>\n",
       "      <td>24</td>\n",
       "      <td>26551</td>\n",
       "      <td>1</td>\n",
       "    </tr>\n",
       "    <tr>\n",
       "      <th>3</th>\n",
       "      <td>14446</td>\n",
       "      <td>1</td>\n",
       "      <td>493</td>\n",
       "      <td>0</td>\n",
       "      <td>28918</td>\n",
       "      <td>0</td>\n",
       "      <td>False</td>\n",
       "      <td>1460</td>\n",
       "      <td>816</td>\n",
       "      <td>561</td>\n",
       "      <td>1333</td>\n",
       "      <td>363</td>\n",
       "      <td>178</td>\n",
       "      <td>674843.0</td>\n",
       "      <td>491.87</td>\n",
       "      <td>158.08</td>\n",
       "      <td>3301</td>\n",
       "      <td>16</td>\n",
       "      <td>29144</td>\n",
       "      <td>1</td>\n",
       "    </tr>\n",
       "    <tr>\n",
       "      <th>4</th>\n",
       "      <td>14590</td>\n",
       "      <td>1</td>\n",
       "      <td>70</td>\n",
       "      <td>0</td>\n",
       "      <td>721</td>\n",
       "      <td>0</td>\n",
       "      <td>False</td>\n",
       "      <td>674</td>\n",
       "      <td>451</td>\n",
       "      <td>189</td>\n",
       "      <td>614</td>\n",
       "      <td>254</td>\n",
       "      <td>173</td>\n",
       "      <td>544953.0</td>\n",
       "      <td>856.84</td>\n",
       "      <td>290.33</td>\n",
       "      <td>1446</td>\n",
       "      <td>17</td>\n",
       "      <td>28961</td>\n",
       "      <td>1</td>\n",
       "    </tr>\n",
       "  </tbody>\n",
       "</table>\n",
       "</div>"
      ],
      "text/plain": [
       "   duration  closeBy  maxLiveViewerCount  privateLiveStream  \\\n",
       "0     44362        1                 117                  0   \n",
       "1     18427        1                 355                  0   \n",
       "2     20471        1                  74                  0   \n",
       "3     14446        1                 493                  0   \n",
       "4     14590        1                  70                  0   \n",
       "\n",
       "   receivedLikeCount  streamerType  isShow  uniqueViewerCount   ios  android  \\\n",
       "0               3447             0   False               1893   845      730   \n",
       "1              22479             0   False               2385  1639      570   \n",
       "2                773             0   False                839   581      213   \n",
       "3              28918             0   False               1460   816      561   \n",
       "4                721             0   False                674   451      189   \n",
       "\n",
       "   durationGTE5sec  durationGTE2min  durationGTE10min  totalViewerDuration  \\\n",
       "0             1503              493               302             919042.0   \n",
       "1             2142              477               251             939946.0   \n",
       "2              773              300               191             668404.0   \n",
       "3             1333              363               178             674843.0   \n",
       "4              614              254               173             544953.0   \n",
       "\n",
       "   avgViewerDuration  avgStreamJoinDuration  count  followIncreaseEstimated  \\\n",
       "0             588.38                 202.48   4571                       -3   \n",
       "1             426.86                 133.97   5342                       35   \n",
       "2             846.08                 285.40   2767                       24   \n",
       "3             491.87                 158.08   3301                       16   \n",
       "4             856.84                 290.33   1446                       17   \n",
       "\n",
       "   receivePointEstimated  Target  \n",
       "0                  71937       1  \n",
       "1                 370581       1  \n",
       "2                  26551       1  \n",
       "3                  29144       1  \n",
       "4                  28961       1  "
      ]
     },
     "execution_count": 12,
     "metadata": {},
     "output_type": "execute_result"
    }
   ],
   "source": [
    "df.head()"
   ]
  },
  {
   "cell_type": "code",
   "execution_count": 13,
   "metadata": {},
   "outputs": [
    {
     "data": {
      "application/javascript": [
       "\n",
       "        if (window._pyforest_update_imports_cell) { window._pyforest_update_imports_cell('import matplotlib.pyplot as plt\\nimport seaborn as sns'); }\n",
       "    "
      ],
      "text/plain": [
       "<IPython.core.display.Javascript object>"
      ]
     },
     "metadata": {},
     "output_type": "display_data"
    },
    {
     "data": {
      "application/javascript": [
       "\n",
       "        if (window._pyforest_update_imports_cell) { window._pyforest_update_imports_cell('import matplotlib.pyplot as plt\\nimport seaborn as sns'); }\n",
       "    "
      ],
      "text/plain": [
       "<IPython.core.display.Javascript object>"
      ]
     },
     "metadata": {},
     "output_type": "display_data"
    },
    {
     "data": {
      "text/plain": [
       "<matplotlib.axes._subplots.AxesSubplot at 0x7f8cdf395150>"
      ]
     },
     "execution_count": 13,
     "metadata": {},
     "output_type": "execute_result"
    },
    {
     "data": {
      "image/png": "[encoded data removed]",
      "text/plain": [
       "<Figure size 1800x5400 with 1 Axes>"
      ]
     },
     "metadata": {
      "needs_background": "light"
     },
     "output_type": "display_data"
    }
   ],
   "source": [
    "plt.figure(figsize=(25,75))\n",
    "sns.boxplot(data=df, orient=\"h\", palette=\"Set2\")"
   ]
  },
  {
   "cell_type": "code",
   "execution_count": 14,
   "metadata": {},
   "outputs": [],
   "source": [
    "def remove_outlier(df , col_in):\n",
    "    q1 = df[col_in].quantile(0.25)\n",
    "    q3 = df[col_in].quantile(0.75)\n",
    "    value = df[col_in].median()\n",
    "    iqr = q3-q1\n",
    "    x = list(df[col_in])\n",
    "    y = []\n",
    "    fence_low  = q1-1.5*iqr\n",
    "    fence_high = q3+1.5*iqr\n",
    "    for i in x:\n",
    "        if (i < fence_low) or (i > fence_high):\n",
    "            i = value\n",
    "            y.append(i)\n",
    "        else:\n",
    "            y.append(i)\n",
    "    df.drop(col_in,axis=1,inplace=True)\n",
    "    df[col_in] = y"
   ]
  },
  {
   "cell_type": "code",
   "execution_count": 15,
   "metadata": {},
   "outputs": [],
   "source": [
    "def remove_zero_by_mean_value(df,col_in):\n",
    "    x = df[df[col_in] != np.nan][col_in].median()\n",
    "    df[col_in].replace(np.nan,x,inplace=True)"
   ]
  },
  {
   "cell_type": "code",
   "execution_count": 16,
   "metadata": {},
   "outputs": [],
   "source": [
    "def remove_zero_by_mode_value(df,col_in):\n",
    "    x = df[df[col_in] != np.nan][col_in].mode()\n",
    "    df[col_in].replace(np.nan,x,inplace=True)"
   ]
  },
  {
   "cell_type": "code",
   "execution_count": 17,
   "metadata": {},
   "outputs": [
    {
     "data": {
      "application/javascript": [
       "\n",
       "        if (window._pyforest_update_imports_cell) { window._pyforest_update_imports_cell('import matplotlib.pyplot as plt\\nimport seaborn as sns'); }\n",
       "    "
      ],
      "text/plain": [
       "<IPython.core.display.Javascript object>"
      ]
     },
     "metadata": {},
     "output_type": "display_data"
    },
    {
     "data": {
      "application/javascript": [
       "\n",
       "        if (window._pyforest_update_imports_cell) { window._pyforest_update_imports_cell('import matplotlib.pyplot as plt\\nimport seaborn as sns'); }\n",
       "    "
      ],
      "text/plain": [
       "<IPython.core.display.Javascript object>"
      ]
     },
     "metadata": {},
     "output_type": "display_data"
    },
    {
     "data": {
      "application/javascript": [
       "\n",
       "        if (window._pyforest_update_imports_cell) { window._pyforest_update_imports_cell('import matplotlib.pyplot as plt\\nimport seaborn as sns'); }\n",
       "    "
      ],
      "text/plain": [
       "<IPython.core.display.Javascript object>"
      ]
     },
     "metadata": {},
     "output_type": "display_data"
    },
    {
     "name": "stderr",
     "output_type": "stream",
     "text": [
      "/home/nitin/anaconda3/lib/python3.7/site-packages/numpy/lib/histograms.py:839: RuntimeWarning: invalid value encountered in greater_equal\n",
      "  keep = (tmp_a >= first_edge)\n",
      "/home/nitin/anaconda3/lib/python3.7/site-packages/numpy/lib/histograms.py:840: RuntimeWarning: invalid value encountered in less_equal\n",
      "  keep &= (tmp_a <= last_edge)\n"
     ]
    },
    {
     "data": {
      "application/javascript": [
       "\n",
       "        if (window._pyforest_update_imports_cell) { window._pyforest_update_imports_cell('import matplotlib.pyplot as plt\\nimport seaborn as sns'); }\n",
       "    "
      ],
      "text/plain": [
       "<IPython.core.display.Javascript object>"
      ]
     },
     "metadata": {},
     "output_type": "display_data"
    },
    {
     "data": {
      "application/javascript": [
       "\n",
       "        if (window._pyforest_update_imports_cell) { window._pyforest_update_imports_cell('import matplotlib.pyplot as plt\\nimport seaborn as sns'); }\n",
       "    "
      ],
      "text/plain": [
       "<IPython.core.display.Javascript object>"
      ]
     },
     "metadata": {},
     "output_type": "display_data"
    },
    {
     "data": {
      "application/javascript": [
       "\n",
       "        if (window._pyforest_update_imports_cell) { window._pyforest_update_imports_cell('import matplotlib.pyplot as plt\\nimport seaborn as sns'); }\n",
       "    "
      ],
      "text/plain": [
       "<IPython.core.display.Javascript object>"
      ]
     },
     "metadata": {},
     "output_type": "display_data"
    },
    {
     "data": {
      "application/javascript": [
       "\n",
       "        if (window._pyforest_update_imports_cell) { window._pyforest_update_imports_cell('import matplotlib.pyplot as plt\\nimport seaborn as sns'); }\n",
       "    "
      ],
      "text/plain": [
       "<IPython.core.display.Javascript object>"
      ]
     },
     "metadata": {},
     "output_type": "display_data"
    },
    {
     "data": {
      "image/png": "[encoded data removed]",
      "text/plain": [
       "<Figure size 1080x1080 with 3 Axes>"
      ]
     },
     "metadata": {
      "needs_background": "light"
     },
     "output_type": "display_data"
    }
   ],
   "source": [
    "plt.figure(1,figsize=(15,15))\n",
    "plt.subplot(221)   \n",
    "plt.hist(df['avgStreamJoinDuration'])\n",
    "plt.subplot(222)\n",
    "sns.boxplot(df['avgStreamJoinDuration'])\n",
    "plt.subplot(223)\n",
    "sns.kdeplot(df['avgStreamJoinDuration'])\n",
    "remove_zero_by_mean_value(df,'avgStreamJoinDuration')"
   ]
  },
  {
   "cell_type": "code",
   "execution_count": 18,
   "metadata": {},
   "outputs": [
    {
     "data": {
      "application/javascript": [
       "\n",
       "        if (window._pyforest_update_imports_cell) { window._pyforest_update_imports_cell('import matplotlib.pyplot as plt\\nimport seaborn as sns'); }\n",
       "    "
      ],
      "text/plain": [
       "<IPython.core.display.Javascript object>"
      ]
     },
     "metadata": {},
     "output_type": "display_data"
    },
    {
     "data": {
      "application/javascript": [
       "\n",
       "        if (window._pyforest_update_imports_cell) { window._pyforest_update_imports_cell('import matplotlib.pyplot as plt\\nimport seaborn as sns'); }\n",
       "    "
      ],
      "text/plain": [
       "<IPython.core.display.Javascript object>"
      ]
     },
     "metadata": {},
     "output_type": "display_data"
    },
    {
     "data": {
      "application/javascript": [
       "\n",
       "        if (window._pyforest_update_imports_cell) { window._pyforest_update_imports_cell('import matplotlib.pyplot as plt\\nimport seaborn as sns'); }\n",
       "    "
      ],
      "text/plain": [
       "<IPython.core.display.Javascript object>"
      ]
     },
     "metadata": {},
     "output_type": "display_data"
    },
    {
     "name": "stderr",
     "output_type": "stream",
     "text": [
      "/home/nitin/anaconda3/lib/python3.7/site-packages/numpy/lib/histograms.py:839: RuntimeWarning: invalid value encountered in greater_equal\n",
      "  keep = (tmp_a >= first_edge)\n",
      "/home/nitin/anaconda3/lib/python3.7/site-packages/numpy/lib/histograms.py:840: RuntimeWarning: invalid value encountered in less_equal\n",
      "  keep &= (tmp_a <= last_edge)\n"
     ]
    },
    {
     "data": {
      "application/javascript": [
       "\n",
       "        if (window._pyforest_update_imports_cell) { window._pyforest_update_imports_cell('import matplotlib.pyplot as plt\\nimport seaborn as sns'); }\n",
       "    "
      ],
      "text/plain": [
       "<IPython.core.display.Javascript object>"
      ]
     },
     "metadata": {},
     "output_type": "display_data"
    },
    {
     "data": {
      "application/javascript": [
       "\n",
       "        if (window._pyforest_update_imports_cell) { window._pyforest_update_imports_cell('import matplotlib.pyplot as plt\\nimport seaborn as sns'); }\n",
       "    "
      ],
      "text/plain": [
       "<IPython.core.display.Javascript object>"
      ]
     },
     "metadata": {},
     "output_type": "display_data"
    },
    {
     "data": {
      "application/javascript": [
       "\n",
       "        if (window._pyforest_update_imports_cell) { window._pyforest_update_imports_cell('import matplotlib.pyplot as plt\\nimport seaborn as sns'); }\n",
       "    "
      ],
      "text/plain": [
       "<IPython.core.display.Javascript object>"
      ]
     },
     "metadata": {},
     "output_type": "display_data"
    },
    {
     "data": {
      "application/javascript": [
       "\n",
       "        if (window._pyforest_update_imports_cell) { window._pyforest_update_imports_cell('import matplotlib.pyplot as plt\\nimport seaborn as sns'); }\n",
       "    "
      ],
      "text/plain": [
       "<IPython.core.display.Javascript object>"
      ]
     },
     "metadata": {},
     "output_type": "display_data"
    },
    {
     "data": {
      "image/png": "[encoded data removed]",
      "text/plain": [
       "<Figure size 1080x1080 with 3 Axes>"
      ]
     },
     "metadata": {
      "needs_background": "light"
     },
     "output_type": "display_data"
    }
   ],
   "source": [
    "plt.figure(1,figsize=(15,15))\n",
    "plt.subplot(221)   \n",
    "plt.hist(df['avgViewerDuration'])\n",
    "plt.subplot(222)\n",
    "sns.boxplot(df['avgViewerDuration'])\n",
    "plt.subplot(223)\n",
    "sns.kdeplot(df['avgViewerDuration'])\n",
    "remove_zero_by_mean_value(df,'avgViewerDuration')"
   ]
  },
  {
   "cell_type": "code",
   "execution_count": 19,
   "metadata": {},
   "outputs": [
    {
     "data": {
      "application/javascript": [
       "\n",
       "        if (window._pyforest_update_imports_cell) { window._pyforest_update_imports_cell('import matplotlib.pyplot as plt\\nimport seaborn as sns'); }\n",
       "    "
      ],
      "text/plain": [
       "<IPython.core.display.Javascript object>"
      ]
     },
     "metadata": {},
     "output_type": "display_data"
    },
    {
     "data": {
      "application/javascript": [
       "\n",
       "        if (window._pyforest_update_imports_cell) { window._pyforest_update_imports_cell('import matplotlib.pyplot as plt\\nimport seaborn as sns'); }\n",
       "    "
      ],
      "text/plain": [
       "<IPython.core.display.Javascript object>"
      ]
     },
     "metadata": {},
     "output_type": "display_data"
    },
    {
     "data": {
      "application/javascript": [
       "\n",
       "        if (window._pyforest_update_imports_cell) { window._pyforest_update_imports_cell('import matplotlib.pyplot as plt\\nimport seaborn as sns'); }\n",
       "    "
      ],
      "text/plain": [
       "<IPython.core.display.Javascript object>"
      ]
     },
     "metadata": {},
     "output_type": "display_data"
    },
    {
     "name": "stderr",
     "output_type": "stream",
     "text": [
      "/home/nitin/anaconda3/lib/python3.7/site-packages/numpy/lib/histograms.py:839: RuntimeWarning: invalid value encountered in greater_equal\n",
      "  keep = (tmp_a >= first_edge)\n",
      "/home/nitin/anaconda3/lib/python3.7/site-packages/numpy/lib/histograms.py:840: RuntimeWarning: invalid value encountered in less_equal\n",
      "  keep &= (tmp_a <= last_edge)\n"
     ]
    },
    {
     "data": {
      "application/javascript": [
       "\n",
       "        if (window._pyforest_update_imports_cell) { window._pyforest_update_imports_cell('import matplotlib.pyplot as plt\\nimport seaborn as sns'); }\n",
       "    "
      ],
      "text/plain": [
       "<IPython.core.display.Javascript object>"
      ]
     },
     "metadata": {},
     "output_type": "display_data"
    },
    {
     "data": {
      "application/javascript": [
       "\n",
       "        if (window._pyforest_update_imports_cell) { window._pyforest_update_imports_cell('import matplotlib.pyplot as plt\\nimport seaborn as sns'); }\n",
       "    "
      ],
      "text/plain": [
       "<IPython.core.display.Javascript object>"
      ]
     },
     "metadata": {},
     "output_type": "display_data"
    },
    {
     "data": {
      "application/javascript": [
       "\n",
       "        if (window._pyforest_update_imports_cell) { window._pyforest_update_imports_cell('import matplotlib.pyplot as plt\\nimport seaborn as sns'); }\n",
       "    "
      ],
      "text/plain": [
       "<IPython.core.display.Javascript object>"
      ]
     },
     "metadata": {},
     "output_type": "display_data"
    },
    {
     "data": {
      "application/javascript": [
       "\n",
       "        if (window._pyforest_update_imports_cell) { window._pyforest_update_imports_cell('import matplotlib.pyplot as plt\\nimport seaborn as sns'); }\n",
       "    "
      ],
      "text/plain": [
       "<IPython.core.display.Javascript object>"
      ]
     },
     "metadata": {},
     "output_type": "display_data"
    },
    {
     "data": {
      "image/png": "[encoded data removed]",
      "text/plain": [
       "<Figure size 1080x1080 with 3 Axes>"
      ]
     },
     "metadata": {
      "needs_background": "light"
     },
     "output_type": "display_data"
    }
   ],
   "source": [
    "plt.figure(1,figsize=(15,15))\n",
    "plt.subplot(221)   \n",
    "plt.hist(df['totalViewerDuration'])\n",
    "plt.subplot(222)\n",
    "sns.boxplot(df['totalViewerDuration'])\n",
    "plt.subplot(223)\n",
    "sns.kdeplot(df['totalViewerDuration'])\n",
    "remove_zero_by_mean_value(df,'totalViewerDuration')"
   ]
  },
  {
   "cell_type": "code",
   "execution_count": 20,
   "metadata": {},
   "outputs": [
    {
     "data": {
      "application/javascript": [
       "\n",
       "        if (window._pyforest_update_imports_cell) { window._pyforest_update_imports_cell('import matplotlib.pyplot as plt\\nimport seaborn as sns'); }\n",
       "    "
      ],
      "text/plain": [
       "<IPython.core.display.Javascript object>"
      ]
     },
     "metadata": {},
     "output_type": "display_data"
    },
    {
     "data": {
      "application/javascript": [
       "\n",
       "        if (window._pyforest_update_imports_cell) { window._pyforest_update_imports_cell('import matplotlib.pyplot as plt\\nimport seaborn as sns'); }\n",
       "    "
      ],
      "text/plain": [
       "<IPython.core.display.Javascript object>"
      ]
     },
     "metadata": {},
     "output_type": "display_data"
    },
    {
     "data": {
      "application/javascript": [
       "\n",
       "        if (window._pyforest_update_imports_cell) { window._pyforest_update_imports_cell('import matplotlib.pyplot as plt\\nimport seaborn as sns'); }\n",
       "    "
      ],
      "text/plain": [
       "<IPython.core.display.Javascript object>"
      ]
     },
     "metadata": {},
     "output_type": "display_data"
    },
    {
     "data": {
      "application/javascript": [
       "\n",
       "        if (window._pyforest_update_imports_cell) { window._pyforest_update_imports_cell('import matplotlib.pyplot as plt\\nimport seaborn as sns'); }\n",
       "    "
      ],
      "text/plain": [
       "<IPython.core.display.Javascript object>"
      ]
     },
     "metadata": {},
     "output_type": "display_data"
    },
    {
     "data": {
      "application/javascript": [
       "\n",
       "        if (window._pyforest_update_imports_cell) { window._pyforest_update_imports_cell('import matplotlib.pyplot as plt\\nimport seaborn as sns'); }\n",
       "    "
      ],
      "text/plain": [
       "<IPython.core.display.Javascript object>"
      ]
     },
     "metadata": {},
     "output_type": "display_data"
    },
    {
     "data": {
      "image/png": "[encoded data removed]",
      "text/plain": [
       "<Figure size 1080x1080 with 2 Axes>"
      ]
     },
     "metadata": {
      "needs_background": "light"
     },
     "output_type": "display_data"
    }
   ],
   "source": [
    "plt.figure(1,figsize=(15,15))\n",
    "plt.subplot(221)   \n",
    "plt.hist(df['closeBy'])\n",
    "plt.subplot(222)\n",
    "sns.boxplot(df['closeBy'])\n",
    "\n",
    "remove_zero_by_mode_value(df,'closeBy')"
   ]
  },
  {
   "cell_type": "code",
   "execution_count": 21,
   "metadata": {},
   "outputs": [
    {
     "name": "stdout",
     "output_type": "stream",
     "text": [
      "<class 'pandas.core.frame.DataFrame'>\n",
      "RangeIndex: 3148 entries, 0 to 3147\n",
      "Data columns (total 20 columns):\n",
      "duration                   3148 non-null int64\n",
      "closeBy                    3148 non-null int64\n",
      "maxLiveViewerCount         3148 non-null int64\n",
      "privateLiveStream          3148 non-null int64\n",
      "receivedLikeCount          3148 non-null int64\n",
      "streamerType               3148 non-null int64\n",
      "isShow                     3148 non-null bool\n",
      "uniqueViewerCount          3148 non-null int64\n",
      "ios                        3148 non-null int64\n",
      "android                    3148 non-null int64\n",
      "durationGTE5sec            3148 non-null int64\n",
      "durationGTE2min            3148 non-null int64\n",
      "durationGTE10min           3148 non-null int64\n",
      "totalViewerDuration        3148 non-null float64\n",
      "avgViewerDuration          3148 non-null float64\n",
      "avgStreamJoinDuration      3148 non-null float64\n",
      "count                      3148 non-null int64\n",
      "followIncreaseEstimated    3148 non-null int64\n",
      "receivePointEstimated      3148 non-null int64\n",
      "Target                     3148 non-null int64\n",
      "dtypes: bool(1), float64(3), int64(16)\n",
      "memory usage: 470.5 KB\n"
     ]
    }
   ],
   "source": [
    "df.info()"
   ]
  },
  {
   "cell_type": "code",
   "execution_count": 22,
   "metadata": {},
   "outputs": [
    {
     "name": "stdout",
     "output_type": "stream",
     "text": [
      "                         duration   closeBy  maxLiveViewerCount  \\\n",
      "duration                 1.000000  0.005412            0.307272   \n",
      "closeBy                  0.005412  1.000000           -0.042708   \n",
      "maxLiveViewerCount       0.307272 -0.042708            1.000000   \n",
      "privateLiveStream             NaN       NaN                 NaN   \n",
      "receivedLikeCount        0.221690 -0.025516            0.686648   \n",
      "streamerType                  NaN       NaN                 NaN   \n",
      "isShow                        NaN       NaN                 NaN   \n",
      "uniqueViewerCount        0.440732 -0.046446            0.806334   \n",
      "ios                      0.431729 -0.044215            0.733755   \n",
      "android                  0.409987 -0.048609            0.803905   \n",
      "durationGTE5sec          0.433552 -0.047038            0.781332   \n",
      "durationGTE2min          0.424474 -0.049622            0.583564   \n",
      "durationGTE10min         0.395220 -0.044657            0.456965   \n",
      "totalViewerDuration      0.384243 -0.040008            0.481974   \n",
      "avgViewerDuration        0.287408 -0.021250           -0.004020   \n",
      "avgStreamJoinDuration    0.223032 -0.021633           -0.046960   \n",
      "count                    0.498722 -0.058161            0.567459   \n",
      "followIncreaseEstimated  0.097034 -0.021318            0.206399   \n",
      "receivePointEstimated    0.314782 -0.022613            0.376570   \n",
      "Target                   0.421339 -0.066526            0.472321   \n",
      "\n",
      "                         privateLiveStream  receivedLikeCount  streamerType  \\\n",
      "duration                               NaN           0.221690           NaN   \n",
      "closeBy                                NaN          -0.025516           NaN   \n",
      "maxLiveViewerCount                     NaN           0.686648           NaN   \n",
      "privateLiveStream                      NaN                NaN           NaN   \n",
      "receivedLikeCount                      NaN           1.000000           NaN   \n",
      "streamerType                           NaN                NaN           NaN   \n",
      "isShow                                 NaN                NaN           NaN   \n",
      "uniqueViewerCount                      NaN           0.732610           NaN   \n",
      "ios                                    NaN           0.659620           NaN   \n",
      "android                                NaN           0.672789           NaN   \n",
      "durationGTE5sec                        NaN           0.681670           NaN   \n",
      "durationGTE2min                        NaN           0.523017           NaN   \n",
      "durationGTE10min                       NaN           0.354909           NaN   \n",
      "totalViewerDuration                    NaN           0.410406           NaN   \n",
      "avgViewerDuration                      NaN          -0.007836           NaN   \n",
      "avgStreamJoinDuration                  NaN          -0.043570           NaN   \n",
      "count                                  NaN           0.482471           NaN   \n",
      "followIncreaseEstimated                NaN           0.201927           NaN   \n",
      "receivePointEstimated                  NaN           0.298659           NaN   \n",
      "Target                                 NaN           0.282728           NaN   \n",
      "\n",
      "                         isShow  uniqueViewerCount       ios   android  \\\n",
      "duration                    NaN           0.440732  0.431729  0.409987   \n",
      "closeBy                     NaN          -0.046446 -0.044215 -0.048609   \n",
      "maxLiveViewerCount          NaN           0.806334  0.733755  0.803905   \n",
      "privateLiveStream           NaN                NaN       NaN       NaN   \n",
      "receivedLikeCount           NaN           0.732610  0.659620  0.672789   \n",
      "streamerType                NaN                NaN       NaN       NaN   \n",
      "isShow                      NaN                NaN       NaN       NaN   \n",
      "uniqueViewerCount           NaN           1.000000  0.958204  0.939680   \n",
      "ios                         NaN           0.958204  1.000000  0.884525   \n",
      "android                     NaN           0.939680  0.884525  1.000000   \n",
      "durationGTE5sec             NaN           0.975623  0.980800  0.957211   \n",
      "durationGTE2min             NaN           0.862327  0.915022  0.800500   \n",
      "durationGTE10min            NaN           0.743654  0.802202  0.689846   \n",
      "totalViewerDuration         NaN           0.760067  0.831006  0.699356   \n",
      "avgViewerDuration           NaN           0.070383  0.102099  0.038351   \n",
      "avgStreamJoinDuration       NaN           0.001996  0.023624 -0.026833   \n",
      "count                       NaN           0.830488  0.848637  0.744381   \n",
      "followIncreaseEstimated     NaN           0.268935  0.282193  0.249412   \n",
      "receivePointEstimated       NaN           0.573528  0.598978  0.490999   \n",
      "Target                      NaN           0.539203  0.517164  0.538134   \n",
      "\n",
      "                         durationGTE5sec  durationGTE2min  durationGTE10min  \\\n",
      "duration                        0.433552         0.424474          0.395220   \n",
      "closeBy                        -0.047038        -0.049622         -0.044657   \n",
      "maxLiveViewerCount              0.781332         0.583564          0.456965   \n",
      "privateLiveStream                    NaN              NaN               NaN   \n",
      "receivedLikeCount               0.681670         0.523017          0.354909   \n",
      "streamerType                         NaN              NaN               NaN   \n",
      "isShow                               NaN              NaN               NaN   \n",
      "uniqueViewerCount               0.975623         0.862327          0.743654   \n",
      "ios                             0.980800         0.915022          0.802202   \n",
      "android                         0.957211         0.800500          0.689846   \n",
      "durationGTE5sec                 1.000000         0.895717          0.780139   \n",
      "durationGTE2min                 0.895717         1.000000          0.939578   \n",
      "durationGTE10min                0.780139         0.939578          1.000000   \n",
      "totalViewerDuration             0.801191         0.931079          0.969752   \n",
      "avgViewerDuration               0.079977         0.230338          0.306576   \n",
      "avgStreamJoinDuration           0.004267         0.118959          0.178644   \n",
      "count                           0.827587         0.873384          0.836528   \n",
      "followIncreaseEstimated         0.277363         0.235634          0.162771   \n",
      "receivePointEstimated           0.570936         0.484096          0.429359   \n",
      "Target                          0.539845         0.558625          0.528580   \n",
      "\n",
      "                         totalViewerDuration  avgViewerDuration  \\\n",
      "duration                            0.384243           0.287408   \n",
      "closeBy                            -0.040008          -0.021250   \n",
      "maxLiveViewerCount                  0.481974          -0.004020   \n",
      "privateLiveStream                        NaN                NaN   \n",
      "receivedLikeCount                   0.410406          -0.007836   \n",
      "streamerType                             NaN                NaN   \n",
      "isShow                                   NaN                NaN   \n",
      "uniqueViewerCount                   0.760067           0.070383   \n",
      "ios                                 0.831006           0.102099   \n",
      "android                             0.699356           0.038351   \n",
      "durationGTE5sec                     0.801191           0.079977   \n",
      "durationGTE2min                     0.931079           0.230338   \n",
      "durationGTE10min                    0.969752           0.306576   \n",
      "totalViewerDuration                 1.000000           0.294478   \n",
      "avgViewerDuration                   0.294478           1.000000   \n",
      "avgStreamJoinDuration               0.163919           0.881016   \n",
      "count                               0.846785           0.301259   \n",
      "followIncreaseEstimated             0.169300          -0.044073   \n",
      "receivePointEstimated               0.455054           0.089445   \n",
      "Target                              0.458519           0.352336   \n",
      "\n",
      "                         avgStreamJoinDuration     count  \\\n",
      "duration                              0.223032  0.498722   \n",
      "closeBy                              -0.021633 -0.058161   \n",
      "maxLiveViewerCount                   -0.046960  0.567459   \n",
      "privateLiveStream                          NaN       NaN   \n",
      "receivedLikeCount                    -0.043570  0.482471   \n",
      "streamerType                               NaN       NaN   \n",
      "isShow                                     NaN       NaN   \n",
      "uniqueViewerCount                     0.001996  0.830488   \n",
      "ios                                   0.023624  0.848637   \n",
      "android                              -0.026833  0.744381   \n",
      "durationGTE5sec                       0.004267  0.827587   \n",
      "durationGTE2min                       0.118959  0.873384   \n",
      "durationGTE10min                      0.178644  0.836528   \n",
      "totalViewerDuration                   0.163919  0.846785   \n",
      "avgViewerDuration                     0.881016  0.301259   \n",
      "avgStreamJoinDuration                 1.000000  0.172212   \n",
      "count                                 0.172212  1.000000   \n",
      "followIncreaseEstimated              -0.021940  0.190654   \n",
      "receivePointEstimated                 0.043508  0.555058   \n",
      "Target                                0.237332  0.618862   \n",
      "\n",
      "                         followIncreaseEstimated  receivePointEstimated  \\\n",
      "duration                                0.097034               0.314782   \n",
      "closeBy                                -0.021318              -0.022613   \n",
      "maxLiveViewerCount                      0.206399               0.376570   \n",
      "privateLiveStream                            NaN                    NaN   \n",
      "receivedLikeCount                       0.201927               0.298659   \n",
      "streamerType                                 NaN                    NaN   \n",
      "isShow                                       NaN                    NaN   \n",
      "uniqueViewerCount                       0.268935               0.573528   \n",
      "ios                                     0.282193               0.598978   \n",
      "android                                 0.249412               0.490999   \n",
      "durationGTE5sec                         0.277363               0.570936   \n",
      "durationGTE2min                         0.235634               0.484096   \n",
      "durationGTE10min                        0.162771               0.429359   \n",
      "totalViewerDuration                     0.169300               0.455054   \n",
      "avgViewerDuration                      -0.044073               0.089445   \n",
      "avgStreamJoinDuration                  -0.021940               0.043508   \n",
      "count                                   0.190654               0.555058   \n",
      "followIncreaseEstimated                 1.000000               0.155599   \n",
      "receivePointEstimated                   0.155599               1.000000   \n",
      "Target                                  0.109845               0.314687   \n",
      "\n",
      "                           Target  \n",
      "duration                 0.421339  \n",
      "closeBy                 -0.066526  \n",
      "maxLiveViewerCount       0.472321  \n",
      "privateLiveStream             NaN  \n",
      "receivedLikeCount        0.282728  \n",
      "streamerType                  NaN  \n",
      "isShow                        NaN  \n",
      "uniqueViewerCount        0.539203  \n",
      "ios                      0.517164  \n",
      "android                  0.538134  \n",
      "durationGTE5sec          0.539845  \n",
      "durationGTE2min          0.558625  \n",
      "durationGTE10min         0.528580  \n",
      "totalViewerDuration      0.458519  \n",
      "avgViewerDuration        0.352336  \n",
      "avgStreamJoinDuration    0.237332  \n",
      "count                    0.618862  \n",
      "followIncreaseEstimated  0.109845  \n",
      "receivePointEstimated    0.314687  \n",
      "Target                   1.000000  \n"
     ]
    }
   ],
   "source": [
    "correlations = df.corr(method='pearson')\n",
    "print(correlations)\n",
    "\n"
   ]
  },
  {
   "cell_type": "code",
   "execution_count": 23,
   "metadata": {},
   "outputs": [
    {
     "data": {
      "application/javascript": [
       "\n",
       "        if (window._pyforest_update_imports_cell) { window._pyforest_update_imports_cell('import matplotlib.pyplot as plt\\nimport seaborn as sns'); }\n",
       "    "
      ],
      "text/plain": [
       "<IPython.core.display.Javascript object>"
      ]
     },
     "metadata": {},
     "output_type": "display_data"
    },
    {
     "data": {
      "text/plain": [
       "<matplotlib.axes._subplots.AxesSubplot at 0x7f8cd8894750>"
      ]
     },
     "execution_count": 23,
     "metadata": {},
     "output_type": "execute_result"
    },
    {
     "data": {
      "image/png": "[encoded data removed]",
      "text/plain": [
       "<Figure size 432x288 with 2 Axes>"
      ]
     },
     "metadata": {
      "needs_background": "light"
     },
     "output_type": "display_data"
    }
   ],
   "source": [
    "sns.heatmap(correlations)"
   ]
  },
  {
   "cell_type": "code",
   "execution_count": 24,
   "metadata": {},
   "outputs": [],
   "source": [
    "from sklearn.model_selection import train_test_split"
   ]
  },
  {
   "cell_type": "code",
   "execution_count": 25,
   "metadata": {},
   "outputs": [
    {
     "name": "stderr",
     "output_type": "stream",
     "text": [
      "/home/nitin/anaconda3/lib/python3.7/site-packages/ipykernel_launcher.py:1: FutureWarning: \n",
      ".ix is deprecated. Please use\n",
      ".loc for label based indexing or\n",
      ".iloc for positional indexing\n",
      "\n",
      "See the documentation here:\n",
      "http://pandas.pydata.org/pandas-docs/stable/user_guide/indexing.html#ix-indexer-is-deprecated\n",
      "  \"\"\"Entry point for launching an IPython kernel.\n",
      "/home/nitin/anaconda3/lib/python3.7/site-packages/pandas/core/indexing.py:822: FutureWarning: \n",
      ".ix is deprecated. Please use\n",
      ".loc for label based indexing or\n",
      ".iloc for positional indexing\n",
      "\n",
      "See the documentation here:\n",
      "http://pandas.pydata.org/pandas-docs/stable/user_guide/indexing.html#ix-indexer-is-deprecated\n",
      "  retval = getattr(retval, self.name)._getitem_axis(key, axis=i)\n"
     ]
    }
   ],
   "source": [
    "\n",
    "X_res = df.ix[:,'duration':'receivePointEstimated']\n",
    "y_res = df.iloc[:,-1].values"
   ]
  },
  {
   "cell_type": "code",
   "execution_count": 26,
   "metadata": {},
   "outputs": [
    {
     "data": {
      "text/html": [
       "<div>\n",
       "<style scoped>\n",
       "    .dataframe tbody tr th:only-of-type {\n",
       "        vertical-align: middle;\n",
       "    }\n",
       "\n",
       "    .dataframe tbody tr th {\n",
       "        vertical-align: top;\n",
       "    }\n",
       "\n",
       "    .dataframe thead th {\n",
       "        text-align: right;\n",
       "    }\n",
       "</style>\n",
       "<table border=\"1\" class=\"dataframe\">\n",
       "  <thead>\n",
       "    <tr style=\"text-align: right;\">\n",
       "      <th></th>\n",
       "      <th>duration</th>\n",
       "      <th>closeBy</th>\n",
       "      <th>maxLiveViewerCount</th>\n",
       "      <th>privateLiveStream</th>\n",
       "      <th>receivedLikeCount</th>\n",
       "      <th>streamerType</th>\n",
       "      <th>isShow</th>\n",
       "      <th>uniqueViewerCount</th>\n",
       "      <th>ios</th>\n",
       "      <th>android</th>\n",
       "      <th>durationGTE5sec</th>\n",
       "      <th>durationGTE2min</th>\n",
       "      <th>durationGTE10min</th>\n",
       "      <th>totalViewerDuration</th>\n",
       "      <th>avgViewerDuration</th>\n",
       "      <th>avgStreamJoinDuration</th>\n",
       "      <th>count</th>\n",
       "      <th>followIncreaseEstimated</th>\n",
       "      <th>receivePointEstimated</th>\n",
       "    </tr>\n",
       "  </thead>\n",
       "  <tbody>\n",
       "    <tr>\n",
       "      <th>0</th>\n",
       "      <td>44362</td>\n",
       "      <td>1</td>\n",
       "      <td>117</td>\n",
       "      <td>0</td>\n",
       "      <td>3447</td>\n",
       "      <td>0</td>\n",
       "      <td>False</td>\n",
       "      <td>1893</td>\n",
       "      <td>845</td>\n",
       "      <td>730</td>\n",
       "      <td>1503</td>\n",
       "      <td>493</td>\n",
       "      <td>302</td>\n",
       "      <td>919042.0</td>\n",
       "      <td>588.38</td>\n",
       "      <td>202.48</td>\n",
       "      <td>4571</td>\n",
       "      <td>-3</td>\n",
       "      <td>71937</td>\n",
       "    </tr>\n",
       "    <tr>\n",
       "      <th>1</th>\n",
       "      <td>18427</td>\n",
       "      <td>1</td>\n",
       "      <td>355</td>\n",
       "      <td>0</td>\n",
       "      <td>22479</td>\n",
       "      <td>0</td>\n",
       "      <td>False</td>\n",
       "      <td>2385</td>\n",
       "      <td>1639</td>\n",
       "      <td>570</td>\n",
       "      <td>2142</td>\n",
       "      <td>477</td>\n",
       "      <td>251</td>\n",
       "      <td>939946.0</td>\n",
       "      <td>426.86</td>\n",
       "      <td>133.97</td>\n",
       "      <td>5342</td>\n",
       "      <td>35</td>\n",
       "      <td>370581</td>\n",
       "    </tr>\n",
       "    <tr>\n",
       "      <th>2</th>\n",
       "      <td>20471</td>\n",
       "      <td>1</td>\n",
       "      <td>74</td>\n",
       "      <td>0</td>\n",
       "      <td>773</td>\n",
       "      <td>0</td>\n",
       "      <td>False</td>\n",
       "      <td>839</td>\n",
       "      <td>581</td>\n",
       "      <td>213</td>\n",
       "      <td>773</td>\n",
       "      <td>300</td>\n",
       "      <td>191</td>\n",
       "      <td>668404.0</td>\n",
       "      <td>846.08</td>\n",
       "      <td>285.40</td>\n",
       "      <td>2767</td>\n",
       "      <td>24</td>\n",
       "      <td>26551</td>\n",
       "    </tr>\n",
       "    <tr>\n",
       "      <th>3</th>\n",
       "      <td>14446</td>\n",
       "      <td>1</td>\n",
       "      <td>493</td>\n",
       "      <td>0</td>\n",
       "      <td>28918</td>\n",
       "      <td>0</td>\n",
       "      <td>False</td>\n",
       "      <td>1460</td>\n",
       "      <td>816</td>\n",
       "      <td>561</td>\n",
       "      <td>1333</td>\n",
       "      <td>363</td>\n",
       "      <td>178</td>\n",
       "      <td>674843.0</td>\n",
       "      <td>491.87</td>\n",
       "      <td>158.08</td>\n",
       "      <td>3301</td>\n",
       "      <td>16</td>\n",
       "      <td>29144</td>\n",
       "    </tr>\n",
       "    <tr>\n",
       "      <th>4</th>\n",
       "      <td>14590</td>\n",
       "      <td>1</td>\n",
       "      <td>70</td>\n",
       "      <td>0</td>\n",
       "      <td>721</td>\n",
       "      <td>0</td>\n",
       "      <td>False</td>\n",
       "      <td>674</td>\n",
       "      <td>451</td>\n",
       "      <td>189</td>\n",
       "      <td>614</td>\n",
       "      <td>254</td>\n",
       "      <td>173</td>\n",
       "      <td>544953.0</td>\n",
       "      <td>856.84</td>\n",
       "      <td>290.33</td>\n",
       "      <td>1446</td>\n",
       "      <td>17</td>\n",
       "      <td>28961</td>\n",
       "    </tr>\n",
       "    <tr>\n",
       "      <th>...</th>\n",
       "      <td>...</td>\n",
       "      <td>...</td>\n",
       "      <td>...</td>\n",
       "      <td>...</td>\n",
       "      <td>...</td>\n",
       "      <td>...</td>\n",
       "      <td>...</td>\n",
       "      <td>...</td>\n",
       "      <td>...</td>\n",
       "      <td>...</td>\n",
       "      <td>...</td>\n",
       "      <td>...</td>\n",
       "      <td>...</td>\n",
       "      <td>...</td>\n",
       "      <td>...</td>\n",
       "      <td>...</td>\n",
       "      <td>...</td>\n",
       "      <td>...</td>\n",
       "      <td>...</td>\n",
       "    </tr>\n",
       "    <tr>\n",
       "      <th>3143</th>\n",
       "      <td>0</td>\n",
       "      <td>0</td>\n",
       "      <td>0</td>\n",
       "      <td>0</td>\n",
       "      <td>0</td>\n",
       "      <td>0</td>\n",
       "      <td>False</td>\n",
       "      <td>0</td>\n",
       "      <td>0</td>\n",
       "      <td>0</td>\n",
       "      <td>0</td>\n",
       "      <td>0</td>\n",
       "      <td>0</td>\n",
       "      <td>5947.0</td>\n",
       "      <td>185.30</td>\n",
       "      <td>106.23</td>\n",
       "      <td>0</td>\n",
       "      <td>0</td>\n",
       "      <td>0</td>\n",
       "    </tr>\n",
       "    <tr>\n",
       "      <th>3144</th>\n",
       "      <td>0</td>\n",
       "      <td>0</td>\n",
       "      <td>0</td>\n",
       "      <td>0</td>\n",
       "      <td>0</td>\n",
       "      <td>0</td>\n",
       "      <td>False</td>\n",
       "      <td>0</td>\n",
       "      <td>0</td>\n",
       "      <td>0</td>\n",
       "      <td>0</td>\n",
       "      <td>0</td>\n",
       "      <td>0</td>\n",
       "      <td>5947.0</td>\n",
       "      <td>185.30</td>\n",
       "      <td>106.23</td>\n",
       "      <td>0</td>\n",
       "      <td>0</td>\n",
       "      <td>0</td>\n",
       "    </tr>\n",
       "    <tr>\n",
       "      <th>3145</th>\n",
       "      <td>0</td>\n",
       "      <td>0</td>\n",
       "      <td>0</td>\n",
       "      <td>0</td>\n",
       "      <td>0</td>\n",
       "      <td>0</td>\n",
       "      <td>False</td>\n",
       "      <td>0</td>\n",
       "      <td>0</td>\n",
       "      <td>0</td>\n",
       "      <td>0</td>\n",
       "      <td>0</td>\n",
       "      <td>0</td>\n",
       "      <td>5947.0</td>\n",
       "      <td>185.30</td>\n",
       "      <td>106.23</td>\n",
       "      <td>0</td>\n",
       "      <td>0</td>\n",
       "      <td>0</td>\n",
       "    </tr>\n",
       "    <tr>\n",
       "      <th>3146</th>\n",
       "      <td>0</td>\n",
       "      <td>0</td>\n",
       "      <td>0</td>\n",
       "      <td>0</td>\n",
       "      <td>0</td>\n",
       "      <td>0</td>\n",
       "      <td>False</td>\n",
       "      <td>0</td>\n",
       "      <td>0</td>\n",
       "      <td>0</td>\n",
       "      <td>0</td>\n",
       "      <td>0</td>\n",
       "      <td>0</td>\n",
       "      <td>5947.0</td>\n",
       "      <td>185.30</td>\n",
       "      <td>106.23</td>\n",
       "      <td>0</td>\n",
       "      <td>0</td>\n",
       "      <td>0</td>\n",
       "    </tr>\n",
       "    <tr>\n",
       "      <th>3147</th>\n",
       "      <td>0</td>\n",
       "      <td>0</td>\n",
       "      <td>0</td>\n",
       "      <td>0</td>\n",
       "      <td>0</td>\n",
       "      <td>0</td>\n",
       "      <td>False</td>\n",
       "      <td>0</td>\n",
       "      <td>0</td>\n",
       "      <td>0</td>\n",
       "      <td>0</td>\n",
       "      <td>0</td>\n",
       "      <td>0</td>\n",
       "      <td>5947.0</td>\n",
       "      <td>185.30</td>\n",
       "      <td>106.23</td>\n",
       "      <td>0</td>\n",
       "      <td>0</td>\n",
       "      <td>0</td>\n",
       "    </tr>\n",
       "  </tbody>\n",
       "</table>\n",
       "<p>3148 rows × 19 columns</p>\n",
       "</div>"
      ],
      "text/plain": [
       "      duration  closeBy  maxLiveViewerCount  privateLiveStream  \\\n",
       "0        44362        1                 117                  0   \n",
       "1        18427        1                 355                  0   \n",
       "2        20471        1                  74                  0   \n",
       "3        14446        1                 493                  0   \n",
       "4        14590        1                  70                  0   \n",
       "...        ...      ...                 ...                ...   \n",
       "3143         0        0                   0                  0   \n",
       "3144         0        0                   0                  0   \n",
       "3145         0        0                   0                  0   \n",
       "3146         0        0                   0                  0   \n",
       "3147         0        0                   0                  0   \n",
       "\n",
       "      receivedLikeCount  streamerType  isShow  uniqueViewerCount   ios  \\\n",
       "0                  3447             0   False               1893   845   \n",
       "1                 22479             0   False               2385  1639   \n",
       "2                   773             0   False                839   581   \n",
       "3                 28918             0   False               1460   816   \n",
       "4                   721             0   False                674   451   \n",
       "...                 ...           ...     ...                ...   ...   \n",
       "3143                  0             0   False                  0     0   \n",
       "3144                  0             0   False                  0     0   \n",
       "3145                  0             0   False                  0     0   \n",
       "3146                  0             0   False                  0     0   \n",
       "3147                  0             0   False                  0     0   \n",
       "\n",
       "      android  durationGTE5sec  durationGTE2min  durationGTE10min  \\\n",
       "0         730             1503              493               302   \n",
       "1         570             2142              477               251   \n",
       "2         213              773              300               191   \n",
       "3         561             1333              363               178   \n",
       "4         189              614              254               173   \n",
       "...       ...              ...              ...               ...   \n",
       "3143        0                0                0                 0   \n",
       "3144        0                0                0                 0   \n",
       "3145        0                0                0                 0   \n",
       "3146        0                0                0                 0   \n",
       "3147        0                0                0                 0   \n",
       "\n",
       "      totalViewerDuration  avgViewerDuration  avgStreamJoinDuration  count  \\\n",
       "0                919042.0             588.38                 202.48   4571   \n",
       "1                939946.0             426.86                 133.97   5342   \n",
       "2                668404.0             846.08                 285.40   2767   \n",
       "3                674843.0             491.87                 158.08   3301   \n",
       "4                544953.0             856.84                 290.33   1446   \n",
       "...                   ...                ...                    ...    ...   \n",
       "3143               5947.0             185.30                 106.23      0   \n",
       "3144               5947.0             185.30                 106.23      0   \n",
       "3145               5947.0             185.30                 106.23      0   \n",
       "3146               5947.0             185.30                 106.23      0   \n",
       "3147               5947.0             185.30                 106.23      0   \n",
       "\n",
       "      followIncreaseEstimated  receivePointEstimated  \n",
       "0                          -3                  71937  \n",
       "1                          35                 370581  \n",
       "2                          24                  26551  \n",
       "3                          16                  29144  \n",
       "4                          17                  28961  \n",
       "...                       ...                    ...  \n",
       "3143                        0                      0  \n",
       "3144                        0                      0  \n",
       "3145                        0                      0  \n",
       "3146                        0                      0  \n",
       "3147                        0                      0  \n",
       "\n",
       "[3148 rows x 19 columns]"
      ]
     },
     "execution_count": 26,
     "metadata": {},
     "output_type": "execute_result"
    }
   ],
   "source": [
    "X_res"
   ]
  },
  {
   "cell_type": "code",
   "execution_count": 27,
   "metadata": {},
   "outputs": [
    {
     "name": "stderr",
     "output_type": "stream",
     "text": [
      "Using TensorFlow backend.\n"
     ]
    }
   ],
   "source": [
    "from imblearn.over_sampling import RandomOverSampler"
   ]
  },
  {
   "cell_type": "code",
   "execution_count": 28,
   "metadata": {},
   "outputs": [],
   "source": [
    "\n",
    "os = RandomOverSampler()\n",
    "X_res,y_res = os.fit_sample(X_res,y_res)"
   ]
  },
  {
   "cell_type": "code",
   "execution_count": 29,
   "metadata": {},
   "outputs": [
    {
     "data": {
      "text/plain": [
       "(5088, 19)"
      ]
     },
     "execution_count": 29,
     "metadata": {},
     "output_type": "execute_result"
    }
   ],
   "source": [
    "X_res.shape"
   ]
  },
  {
   "cell_type": "code",
   "execution_count": 30,
   "metadata": {},
   "outputs": [
    {
     "data": {
      "text/plain": [
       "(5088,)"
      ]
     },
     "execution_count": 30,
     "metadata": {},
     "output_type": "execute_result"
    }
   ],
   "source": [
    "y_res.shape"
   ]
  },
  {
   "cell_type": "code",
   "execution_count": 31,
   "metadata": {},
   "outputs": [],
   "source": [
    "X_train, X_test, y_train, y_test = train_test_split(X_res,y_res, test_size=0.2, random_state=42)"
   ]
  },
  {
   "cell_type": "code",
   "execution_count": 32,
   "metadata": {},
   "outputs": [],
   "source": [
    "from sklearn.preprocessing import Normalizer"
   ]
  },
  {
   "cell_type": "code",
   "execution_count": 33,
   "metadata": {},
   "outputs": [],
   "source": [
    "scaler = Normalizer().fit(X_train)\n",
    "standarized_x = scaler.transform(X_train)\n",
    "standarized_x_test = scaler.transform(X_test)"
   ]
  },
  {
   "cell_type": "code",
   "execution_count": 34,
   "metadata": {},
   "outputs": [],
   "source": [
    "from sklearn.ensemble import RandomForestClassifier\n",
    "from sklearn.metrics import accuracy_score,confusion_matrix,classification_report"
   ]
  },
  {
   "cell_type": "code",
   "execution_count": 35,
   "metadata": {},
   "outputs": [],
   "source": [
    "model = RandomForestClassifier(bootstrap=True, ccp_alpha=0.0, class_weight=None,\n",
    "                       criterion='entropy', max_depth=70, max_features='sqrt',\n",
    "                       max_leaf_nodes=None, max_samples=None,\n",
    "                       min_impurity_decrease=0.0, min_impurity_split=None,\n",
    "                       min_samples_leaf=1, min_samples_split=5,\n",
    "                       min_weight_fraction_leaf=0.0, n_estimators=80,\n",
    "                       n_jobs=None, oob_score=False, random_state=2076,\n",
    "                       verbose=0, warm_start=False)"
   ]
  },
  {
   "cell_type": "code",
   "execution_count": 36,
   "metadata": {},
   "outputs": [
    {
     "name": "stdout",
     "output_type": "stream",
     "text": [
      "0.9852652259332023\n",
      "[[485  13]\n",
      " [  2 518]]\n",
      "              precision    recall  f1-score   support\n",
      "\n",
      "           0       1.00      0.97      0.98       498\n",
      "           1       0.98      1.00      0.99       520\n",
      "\n",
      "    accuracy                           0.99      1018\n",
      "   macro avg       0.99      0.99      0.99      1018\n",
      "weighted avg       0.99      0.99      0.99      1018\n",
      "\n"
     ]
    }
   ],
   "source": [
    "model.fit(standarized_x,y_train)\n",
    "y_pred = model.predict(standarized_x_test)\n",
    "print(accuracy_score(y_test,y_pred))\n",
    "print(confusion_matrix(y_test,y_pred))\n",
    "print(classification_report(y_test,y_pred))"
   ]
  },
  {
   "cell_type": "code",
   "execution_count": 37,
   "metadata": {},
   "outputs": [],
   "source": [
    "from sklearn.model_selection import cross_val_score\n",
    "score = cross_val_score(model,X_res,y_res,cv=10)"
   ]
  },
  {
   "cell_type": "code",
   "execution_count": 38,
   "metadata": {},
   "outputs": [
    {
     "data": {
      "text/plain": [
       "0.9787819253438114"
      ]
     },
     "execution_count": 38,
     "metadata": {},
     "output_type": "execute_result"
    }
   ],
   "source": [
    "score.mean()"
   ]
  },
  {
   "cell_type": "code",
   "execution_count": 39,
   "metadata": {},
   "outputs": [],
   "source": [
    "from sklearn.naive_bayes import GaussianNB\n",
    "from sklearn.metrics import accuracy_score,confusion_matrix,classification_report"
   ]
  },
  {
   "cell_type": "code",
   "execution_count": 40,
   "metadata": {},
   "outputs": [],
   "source": [
    "model = GaussianNB()"
   ]
  },
  {
   "cell_type": "code",
   "execution_count": 41,
   "metadata": {},
   "outputs": [
    {
     "name": "stdout",
     "output_type": "stream",
     "text": [
      "0.93713163064833\n",
      "[[446  52]\n",
      " [ 12 508]]\n",
      "              precision    recall  f1-score   support\n",
      "\n",
      "           0       0.97      0.90      0.93       498\n",
      "           1       0.91      0.98      0.94       520\n",
      "\n",
      "    accuracy                           0.94      1018\n",
      "   macro avg       0.94      0.94      0.94      1018\n",
      "weighted avg       0.94      0.94      0.94      1018\n",
      "\n"
     ]
    }
   ],
   "source": [
    "\n",
    "model.fit(standarized_x,y_train)\n",
    "y_pred = model.predict(standarized_x_test)\n",
    "print(accuracy_score(y_test,y_pred))\n",
    "print(confusion_matrix(y_test,y_pred))\n",
    "print(classification_report(y_test,y_pred))"
   ]
  },
  {
   "cell_type": "code",
   "execution_count": 42,
   "metadata": {},
   "outputs": [],
   "source": [
    "\n",
    "from sklearn.svm import SVC\n",
    "from sklearn.metrics import accuracy_score,confusion_matrix,classification_report"
   ]
  },
  {
   "cell_type": "code",
   "execution_count": 43,
   "metadata": {},
   "outputs": [],
   "source": [
    "model = SVC()"
   ]
  },
  {
   "cell_type": "code",
   "execution_count": 44,
   "metadata": {},
   "outputs": [
    {
     "name": "stdout",
     "output_type": "stream",
     "text": [
      "0.9233791748526523\n",
      "[[443  55]\n",
      " [ 23 497]]\n",
      "              precision    recall  f1-score   support\n",
      "\n",
      "           0       0.95      0.89      0.92       498\n",
      "           1       0.90      0.96      0.93       520\n",
      "\n",
      "    accuracy                           0.92      1018\n",
      "   macro avg       0.93      0.92      0.92      1018\n",
      "weighted avg       0.92      0.92      0.92      1018\n",
      "\n"
     ]
    }
   ],
   "source": [
    "model.fit(standarized_x,y_train)\n",
    "y_pred = model.predict(standarized_x_test)\n",
    "print(accuracy_score(y_test,y_pred))\n",
    "print(confusion_matrix(y_test,y_pred))\n",
    "print(classification_report(y_test,y_pred))"
   ]
  },
  {
   "cell_type": "code",
   "execution_count": 45,
   "metadata": {},
   "outputs": [],
   "source": [
    "\n",
    "from sklearn import neighbors\n",
    "from sklearn.metrics import accuracy_score,confusion_matrix,classification_report"
   ]
  },
  {
   "cell_type": "code",
   "execution_count": 46,
   "metadata": {},
   "outputs": [],
   "source": [
    "model = neighbors.KNeighborsClassifier(3)"
   ]
  },
  {
   "cell_type": "code",
   "execution_count": 47,
   "metadata": {},
   "outputs": [
    {
     "name": "stdout",
     "output_type": "stream",
     "text": [
      "0.9430255402750491\n",
      "[[452  46]\n",
      " [ 12 508]]\n",
      "              precision    recall  f1-score   support\n",
      "\n",
      "           0       0.97      0.91      0.94       498\n",
      "           1       0.92      0.98      0.95       520\n",
      "\n",
      "    accuracy                           0.94      1018\n",
      "   macro avg       0.95      0.94      0.94      1018\n",
      "weighted avg       0.94      0.94      0.94      1018\n",
      "\n"
     ]
    }
   ],
   "source": [
    "model.fit(standarized_x,y_train)\n",
    "y_pred = model.predict(standarized_x_test)\n",
    "print(accuracy_score(y_test,y_pred))\n",
    "print(confusion_matrix(y_test,y_pred))\n",
    "print(classification_report(y_test,y_pred))"
   ]
  },
  {
   "cell_type": "code",
   "execution_count": 48,
   "metadata": {},
   "outputs": [],
   "source": [
    "from sklearn.linear_model import LogisticRegression"
   ]
  },
  {
   "cell_type": "code",
   "execution_count": 49,
   "metadata": {},
   "outputs": [],
   "source": [
    "model = LogisticRegression()"
   ]
  },
  {
   "cell_type": "code",
   "execution_count": 50,
   "metadata": {},
   "outputs": [
    {
     "name": "stdout",
     "output_type": "stream",
     "text": [
      "0.8673870333988212\n",
      "[[441  57]\n",
      " [ 78 442]]\n",
      "              precision    recall  f1-score   support\n",
      "\n",
      "           0       0.85      0.89      0.87       498\n",
      "           1       0.89      0.85      0.87       520\n",
      "\n",
      "    accuracy                           0.87      1018\n",
      "   macro avg       0.87      0.87      0.87      1018\n",
      "weighted avg       0.87      0.87      0.87      1018\n",
      "\n"
     ]
    }
   ],
   "source": [
    "model.fit(standarized_x,y_train)\n",
    "y_pred = model.predict(standarized_x_test)\n",
    "print(accuracy_score(y_test,y_pred))\n",
    "print(confusion_matrix(y_test,y_pred))\n",
    "print(classification_report(y_test,y_pred))"
   ]
  },
  {
   "cell_type": "code",
   "execution_count": 51,
   "metadata": {},
   "outputs": [
    {
     "data": {
      "text/plain": [
       "XGBClassifier(base_score=0.5, booster='gbtree', colsample_bylevel=1,\n",
       "              colsample_bynode=1, colsample_bytree=1, gamma=0,\n",
       "              learning_rate=0.1, max_delta_step=0, max_depth=3,\n",
       "              min_child_weight=1, missing=None, n_estimators=100, n_jobs=1,\n",
       "              nthread=None, objective='binary:logistic', random_state=0,\n",
       "              reg_alpha=0, reg_lambda=1, scale_pos_weight=1, seed=None,\n",
       "              silent=None, subsample=1, verbosity=1)"
      ]
     },
     "execution_count": 51,
     "metadata": {},
     "output_type": "execute_result"
    }
   ],
   "source": [
    "import xgboost as xgb\n",
    "xgb_model = xgb.XGBClassifier(objective='binary:logistic')\n",
    "xgb_model.fit(standarized_x,y_train)"
   ]
  },
  {
   "cell_type": "code",
   "execution_count": 52,
   "metadata": {},
   "outputs": [
    {
     "name": "stdout",
     "output_type": "stream",
     "text": [
      "0.9783889980353635\n",
      "[[480  18]\n",
      " [  4 516]]\n",
      "              precision    recall  f1-score   support\n",
      "\n",
      "           0       0.99      0.96      0.98       498\n",
      "           1       0.97      0.99      0.98       520\n",
      "\n",
      "    accuracy                           0.98      1018\n",
      "   macro avg       0.98      0.98      0.98      1018\n",
      "weighted avg       0.98      0.98      0.98      1018\n",
      "\n"
     ]
    }
   ],
   "source": [
    "\n",
    "y_pred = xgb_model.predict(standarized_x_test)\n",
    "print(accuracy_score(y_test,y_pred))\n",
    "print(confusion_matrix(y_test,y_pred))\n",
    "print(classification_report(y_test,y_pred))"
   ]
  },
  {
   "cell_type": "code",
   "execution_count": null,
   "metadata": {},
   "outputs": [],
   "source": []
  }
 ],
 "metadata": {
  "kernelspec": {
   "display_name": "Python 3",
   "language": "python",
   "name": "python3"
  },
  "language_info": {
   "codemirror_mode": {
    "name": "ipython",
    "version": 3
   },
   "file_extension": ".py",
   "mimetype": "text/x-python",
   "name": "python",
   "nbconvert_exporter": "python",
   "pygments_lexer": "ipython3",
   "version": "3.7.5"
  }
 },
 "nbformat": 4,
 "nbformat_minor": 2
}
